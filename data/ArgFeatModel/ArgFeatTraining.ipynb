{
 "cells": [
  {
   "cell_type": "markdown",
   "id": "f1dbe42a",
   "metadata": {},
   "source": [
    "***Description***\n",
    "<div> In this notebook, I trained the argumentation feature detection models (hence ArgFeat models) using the public data, provided by AlKhatib et al. (2016). Two ArgFeat models are trained: one for 3 argfeat labels (adopted by Alhindo et al. 2020) and one for 6 argfeat labels (original labels by Alkhatib et al. 2016).\n",
    "<div> For each training, I specify the number of labels and number of epochs of the model. The results of the training are reported below."
   ]
  },
  {
   "cell_type": "code",
   "execution_count": 1,
   "id": "74f8b177",
   "metadata": {
    "colab": {
     "base_uri": "https://localhost:8080/"
    },
    "executionInfo": {
     "elapsed": 11391,
     "status": "ok",
     "timestamp": 1674656983887,
     "user": {
      "displayName": "Ruangrin L",
      "userId": "13806571183182803172"
     },
     "user_tz": -60
    },
    "id": "n5bbQgNZVUzi",
    "outputId": "9b4cb326-80ba-464a-e072-36c670479a3b"
   },
   "outputs": [
    {
     "name": "stdout",
     "output_type": "stream",
     "text": [
      "Defaulting to user installation because normal site-packages is not writeable\n",
      "Requirement already satisfied: transformers in /home/users/rldall/.local/lib/python3.8/site-packages (4.27.4)\n",
      "Requirement already satisfied: packaging>=20.0 in /usr/local/lib/python3.8/dist-packages (from transformers) (21.3)\n",
      "Requirement already satisfied: tokenizers!=0.11.3,<0.14,>=0.11.1 in /home/users/rldall/.local/lib/python3.8/site-packages (from transformers) (0.13.2)\n",
      "Requirement already satisfied: requests in /usr/lib/python3/dist-packages (from transformers) (2.22.0)\n",
      "Requirement already satisfied: regex!=2019.12.17 in /home/users/rldall/.local/lib/python3.8/site-packages (from transformers) (2023.3.23)\n",
      "Requirement already satisfied: huggingface-hub<1.0,>=0.11.0 in /home/users/rldall/.local/lib/python3.8/site-packages (from transformers) (0.13.3)\n",
      "Requirement already satisfied: numpy>=1.17 in /usr/local/lib/python3.8/dist-packages (from transformers) (1.23.4)\n",
      "Requirement already satisfied: pyyaml>=5.1 in /usr/local/lib/python3.8/dist-packages (from transformers) (6.0)\n",
      "Requirement already satisfied: filelock in /home/users/rldall/.local/lib/python3.8/site-packages (from transformers) (3.10.7)\n",
      "Requirement already satisfied: tqdm>=4.27 in /usr/local/lib/python3.8/dist-packages (from transformers) (4.64.1)\n",
      "Requirement already satisfied: typing-extensions>=3.7.4.3 in /usr/local/lib/python3.8/dist-packages (from huggingface-hub<1.0,>=0.11.0->transformers) (4.0.1)\n",
      "Requirement already satisfied: pyparsing!=3.0.5,>=2.0.2 in /usr/local/lib/python3.8/dist-packages (from packaging>=20.0->transformers) (3.0.7)\n"
     ]
    }
   ],
   "source": [
    "#!pip install transformers"
   ]
  },
  {
   "cell_type": "code",
   "execution_count": 1,
   "id": "34403caf",
   "metadata": {
    "executionInfo": {
     "elapsed": 5219,
     "status": "ok",
     "timestamp": 1674657003310,
     "user": {
      "displayName": "Ruangrin L",
      "userId": "13806571183182803172"
     },
     "user_tz": -60
    },
    "id": "6c92713c"
   },
   "outputs": [
    {
     "name": "stderr",
     "output_type": "stream",
     "text": [
      "/usr/lib/python3/dist-packages/requests/__init__.py:89: RequestsDependencyWarning: urllib3 (1.26.15) or chardet (3.0.4) doesn't match a supported version!\n",
      "  warnings.warn(\"urllib3 ({}) or chardet ({}) doesn't match a supported \"\n"
     ]
    }
   ],
   "source": [
    "from datetime import datetime\n",
    "import glob, os\n",
    "import numpy as np\n",
    "import pandas as pd\n",
    "from sklearn import preprocessing\n",
    "from sklearn.metrics import classification_report\n",
    "import torch\n",
    "import torch.nn as nn\n",
    "from torch.utils.data import TensorDataset, DataLoader, RandomSampler, SequentialSampler\n",
    "from tqdm import trange\n",
    "import transformers\n",
    "from transformers import BertTokenizerFast, BertForSequenceClassification"
   ]
  },
  {
   "cell_type": "markdown",
   "id": "1c977f7a",
   "metadata": {},
   "source": [
    "# Import and process .txt data via path"
   ]
  },
  {
   "cell_type": "code",
   "execution_count": 2,
   "id": "734e0a9a",
   "metadata": {},
   "outputs": [],
   "source": [
    "# JupyterLab directory\n",
    "path_test= '/data/ArgFeatModel/corpus-webis-editorials-16/annotated-txt/split-for-evaluation-final/test'\n",
    "path_training= '/data/ArgFeatModel/corpus-webis-editorials-16/annotated-txt/split-for-evaluation-final/training'\n",
    "path_validation= '/data/ArgFeatModel/corpus-webis-editorials-16/annotated-txt/split-for-evaluation-final/validation'"
   ]
  },
  {
   "cell_type": "code",
   "execution_count": 22,
   "id": "10b82da2",
   "metadata": {},
   "outputs": [],
   "source": [
    "# Helper function to process .txt data\n",
    "def extract_df(path):\n",
    "    main_df = pd.DataFrame(columns=['unit'])\n",
    "    for filename in glob.glob(os.path.join(path, '*.txt')):\n",
    "        with open(os.path.join(os.getcwd(), filename), 'r') as f: \n",
    "            lines = f.readlines()\n",
    "            this_lines_df = pd.DataFrame(lines, columns=['unit'])\n",
    "            main_df = pd.concat([main_df,this_lines_df])\n",
    "    main_df[['index','label','text','note']] = main_df['unit'].str.split('\\t',n=3,expand=True)\n",
    "    main_df = main_df.drop(['index','unit','note'],axis=1).replace('\\n','', regex=True)\n",
    "    main_df = main_df[main_df['label']!='par-sep']\n",
    "    return main_df\n",
    "\n",
    "def arrange_df(main_df):\n",
    "    main_df = main_df[~main_df['label'].isin(['title','par-sep','no-unit'])]\n",
    "    result_df = main_df.groupby((~main_df.label.str.match('continued')).shift().cumsum(), as_index=False).sum()\n",
    "    result_df['label']=result_df['label'].str.replace('continued','')\n",
    "    return result_df\n",
    "\n",
    "def coarse_label(main_df):\n",
    "    main_df.loc[main_df['label'].str.contains(\"assumption\"),'coarse_label'] = '0' # claim\n",
    "    main_df.loc[main_df['label'].str.contains(\"other\"),'coarse_label'] = '1' # others\n",
    "    main_df.loc[~main_df['label'].str.contains(\"assumption|other\"),'coarse_label'] = '2' # premise\n",
    "    return main_df\n",
    "\n",
    "def fine_label(main_df):\n",
    "    le = preprocessing.LabelEncoder()\n",
    "    le.fit(main_df.label)\n",
    "    main_df['label'] = le.transform(main_df.label)\n",
    "    # to inverse\n",
    "    #le.inverse_transform(main_df['label'])\n",
    "    return main_df"
   ]
  },
  {
   "cell_type": "code",
   "execution_count": 23,
   "id": "0d96e13d",
   "metadata": {},
   "outputs": [],
   "source": [
    "# Main function to import data\n",
    "\n",
    "path_list = [path_training,path_validation,path_test]\n",
    "df_list = []\n",
    "\n",
    "# extract .txt data\n",
    "for path in path_list:\n",
    "    main_df = extract_df(path)\n",
    "    final_df = arrange_df(main_df)\n",
    "    final_df = coarse_label(final_df)\n",
    "    final_df = fine_label(final_df)\n",
    "    df_list.append(final_df)\n",
    "    \n",
    "# define datasets\n",
    "train_df = df_list[0]\n",
    "val_df = df_list[1]\n",
    "test_df = df_list[2]\n",
    "all_data_df = pd.concat([train_df,val_df,test_df])\n",
    "\n",
    "# save datasets\n",
    "train_df.to_csv('ArgFeatData/train.csv',index=False)\n",
    "val_df.to_csv('ArgFeatData/val.csv',index=False)\n",
    "test_df.to_csv('ArgFeatData/test.csv',index=False)\n",
    "all_data_df.to_csv('ArgFeatData/all_data.csv',index=False)"
   ]
  },
  {
   "cell_type": "code",
   "execution_count": 44,
   "id": "7ee1fb31",
   "metadata": {},
   "outputs": [],
   "source": [
    "# SHORTCUT: downloading existing .csv data\n",
    "\n",
    "# loaded prepared data\n",
    "train_df = pd.read_csv('ArgFeatData/train.csv')\n",
    "val_df = pd.read_csv('ArgFeatData/val.csv')\n",
    "test_df = pd.read_csv('ArgFeatData/test.csv')\n",
    "\n",
    "# concat all data\n",
    "all_data_df = pd.concat([train_df,val_df,test_df])"
   ]
  },
  {
   "cell_type": "markdown",
   "id": "61870391",
   "metadata": {},
   "source": [
    "### Helper function: BERT Tokenizer and GPU"
   ]
  },
  {
   "cell_type": "code",
   "execution_count": 69,
   "id": "45bf2eb5",
   "metadata": {},
   "outputs": [],
   "source": [
    "# Load the BERT tokenizer\n",
    "tokenizer = BertTokenizerFast.from_pretrained('bert-base-cased')\n",
    "\n",
    "# specify GPU\n",
    "device = torch.device(\"cuda:0\" if torch.cuda.is_available() else \"cpu\")"
   ]
  },
  {
   "cell_type": "code",
   "execution_count": 73,
   "id": "5772bcc7",
   "metadata": {},
   "outputs": [],
   "source": [
    "# Helper function for model initialization\n",
    "\n",
    "def initialize_model(NUM_LABELS, learning_rate):\n",
    "    # Load the BertForSequenceClassification model\n",
    "    model = BertForSequenceClassification.from_pretrained(\n",
    "        'bert-base-cased',\n",
    "        num_labels = NUM_LABELS,\n",
    "    #    output_attentions = False,\n",
    "    #    output_hidden_states = False,\n",
    "    )\n",
    "    # set optimizer\n",
    "    optimizer = torch.optim.AdamW(model.parameters(), \n",
    "                                  lr = learning_rate,\n",
    "                                  #eps = 1e-08\n",
    "                                  )\n",
    "    return model, optimizer"
   ]
  },
  {
   "cell_type": "code",
   "execution_count": 62,
   "id": "bb764815",
   "metadata": {},
   "outputs": [],
   "source": [
    "# Helper functions for data processing\n",
    "\n",
    "def define_data(NUM_LABELS, train_df, val_df, test_df):\n",
    "    #text = all_data_df.text.values\n",
    "    train_text = list(train_df.text.values)\n",
    "    val_text = list(val_df.text.values)\n",
    "    test_text = list(test_df.text.values)\n",
    "    if NUM_LABELS == 3:\n",
    "        #labels = all_data_df.coarse_label.values\n",
    "        train_labels = list(train_df.coarse_label.values)\n",
    "        val_labels = list(val_df.coarse_label.values)\n",
    "        test_labels = list(test_df.coarse_label.values)\n",
    "    if NUM_LABELS == 6:\n",
    "        #labels = all_data_df.label.values\n",
    "        train_labels = list(train_df.label.values)\n",
    "        val_labels = list(val_df.label.values)\n",
    "        test_labels = list(test_df.label.values) \n",
    "    return train_text, val_text, test_text, train_labels, val_labels, test_labels\n",
    "\n",
    "def process_data(train_text, val_text, test_text, train_labels, val_labels, test_labels, max_seq_len):\n",
    "    # tokenize and encode sequences in the training set\n",
    "    tokens_train = tokenizer.batch_encode_plus(\n",
    "        train_text,\n",
    "        max_length = max_seq_len,\n",
    "        pad_to_max_length=True,\n",
    "        truncation=True,\n",
    "        return_token_type_ids=False\n",
    "    )\n",
    "    # tokenize and encode sequences in the validation set\n",
    "    tokens_val = tokenizer.batch_encode_plus(\n",
    "        val_text,\n",
    "        max_length = max_seq_len,\n",
    "        pad_to_max_length=True,\n",
    "        truncation=True,\n",
    "        return_token_type_ids=False\n",
    "    )\n",
    "    # tokenize and encode sequences in the test set\n",
    "    tokens_test = tokenizer.batch_encode_plus(\n",
    "        test_text,\n",
    "        max_length = max_seq_len,\n",
    "        pad_to_max_length=True,\n",
    "        truncation=True,\n",
    "        return_token_type_ids=False\n",
    "    )\n",
    "    # for train set\n",
    "    train_seq = torch.tensor(tokens_train['input_ids'])\n",
    "    train_mask = torch.tensor(tokens_train['attention_mask'])\n",
    "    train_y = torch.tensor(train_labels)\n",
    "    # for validation set\n",
    "    val_seq = torch.tensor(tokens_val['input_ids'])\n",
    "    val_mask = torch.tensor(tokens_val['attention_mask'])\n",
    "    val_y = torch.tensor(val_labels)\n",
    "    # for test set\n",
    "    test_seq = torch.tensor(tokens_test['input_ids'])\n",
    "    test_mask = torch.tensor(tokens_test['attention_mask'])\n",
    "    test_y = torch.tensor(test_labels)\n",
    "    \n",
    "    return [TensorDataset(train_seq, train_mask, train_y), \n",
    "            TensorDataset(val_seq, val_mask, val_y), \n",
    "            TensorDataset(test_seq, test_mask, test_y)]\n",
    "\n",
    "def get_dataloader(for_dataloader, batch_size):\n",
    "    # unwrap data\n",
    "    train_data, val_data, test_data = for_dataloader\n",
    "    return [DataLoader(train_data, sampler=RandomSampler(train_data), batch_size=batch_size),\n",
    "            DataLoader(val_data, sampler=SequentialSampler(val_data), batch_size=batch_size),\n",
    "            DataLoader(test_data, sampler=SequentialSampler(test_data), batch_size=batch_size)]"
   ]
  },
  {
   "cell_type": "markdown",
   "id": "83ebe284",
   "metadata": {},
   "source": [
    "### Helper functions: Model Training and Validating"
   ]
  },
  {
   "cell_type": "code",
   "execution_count": 114,
   "id": "d3c880e8",
   "metadata": {},
   "outputs": [],
   "source": [
    "def b_tp(preds, labels):\n",
    "    preds = np.argmax(preds, axis = 1).flatten()\n",
    "    labels = labels.flatten()\n",
    "    b_accuracy = sum([preds == labels for preds, labels in zip(preds, labels)])\n",
    "    \n",
    "    return b_accuracy / len(labels)\n",
    "\n",
    "def get_timestamp():\n",
    "    dt = datetime.now()\n",
    "    ts = datetime.timestamp(dt)\n",
    "    date_time = datetime.fromtimestamp(ts)\n",
    "    \n",
    "    return date_time.strftime(\"%Y%m%d_%H%M\")"
   ]
  },
  {
   "cell_type": "code",
   "execution_count": 74,
   "id": "ad8b3f46",
   "metadata": {},
   "outputs": [],
   "source": [
    "def train_val(model, optimizer, train_dataloader, val_dataloader, epochs):\n",
    "\n",
    "    for _ in trange(epochs, desc = 'Epoch'):\n",
    "    \n",
    "        # ========== Training ==========\n",
    "    \n",
    "        # Set model to training mode\n",
    "        model.train()\n",
    "    \n",
    "        # Tracking variables\n",
    "        tr_loss = 0\n",
    "        nb_tr_examples, nb_tr_steps = 0, 0\n",
    "\n",
    "        for step, batch in enumerate(train_dataloader):\n",
    "        \n",
    "            if step % 50 == 0 and not step == 0:\n",
    "              # Report progress.\n",
    "                print('  Batch {:>5,}  of  {:>5,}.'.format(step, len(train_dataloader)))\n",
    "        \n",
    "            batch = tuple(t.to(device) for t in batch)\n",
    "            b_input_ids, b_input_mask, b_labels = batch\n",
    "        \n",
    "            optimizer.zero_grad()\n",
    "            # Forward pass\n",
    "            train_output = model(b_input_ids, \n",
    "                                 token_type_ids = None, \n",
    "                                 attention_mask = b_input_mask, \n",
    "                                 labels = b_labels)\n",
    "            # Backward pass\n",
    "            train_output.loss.backward()\n",
    "            optimizer.step()\n",
    "            # Update tracking variables\n",
    "            tr_loss += train_output.loss.item()\n",
    "            nb_tr_examples += b_input_ids.size(0)\n",
    "            nb_tr_steps += 1\n",
    "\n",
    "        # ========== Validation ==========\n",
    "\n",
    "        # Set model to evaluation mode\n",
    "        model.eval()\n",
    "\n",
    "        # Tracking variables \n",
    "        val_accuracy = []\n",
    "\n",
    "        for batch in val_dataloader:\n",
    "            batch = tuple(t.to(device) for t in batch)\n",
    "            b_input_ids, b_input_mask, b_labels = batch\n",
    "            with torch.no_grad():\n",
    "              # Forward pass\n",
    "              eval_output = model(b_input_ids, \n",
    "                                  token_type_ids = None, \n",
    "                                  attention_mask = b_input_mask)\n",
    "            logits = eval_output.logits.detach().cpu().numpy()\n",
    "            label_ids = b_labels.to('cpu').numpy()\n",
    "        \n",
    "            # Calculate validation accuracy\n",
    "            b_accuracy = b_tp(logits, label_ids)\n",
    "            val_accuracy.append(b_accuracy)\n",
    "\n",
    "        print('\\n\\t - Train loss: {:.4f}'.format(tr_loss / nb_tr_steps))    \n",
    "        print('\\t - Validation Accuracy: {:.4f}'.format(sum(val_accuracy)/len(val_accuracy)))\n",
    "        \n",
    "    return model"
   ]
  },
  {
   "cell_type": "markdown",
   "id": "fc805121",
   "metadata": {},
   "source": [
    "### Helper function: Model Testing"
   ]
  },
  {
   "cell_type": "code",
   "execution_count": 86,
   "id": "4f05c627",
   "metadata": {},
   "outputs": [],
   "source": [
    "def test_report(model, test_dataloader):\n",
    "    model.eval()\n",
    "    test_accuracy = []\n",
    "    logits_list = []\n",
    "    labels_list = []\n",
    "\n",
    "    for batch in test_dataloader:\n",
    "    \n",
    "        batch = tuple(t.to(device) for t in batch)\n",
    "        b_input_ids, b_input_mask, b_labels = batch\n",
    "        with torch.no_grad():\n",
    "            # Forward pass\n",
    "            test_output = model(b_input_ids, \n",
    "                                token_type_ids = None, \n",
    "                                attention_mask = b_input_mask)\n",
    "        logits = test_output.logits.detach().cpu().numpy()\n",
    "        label_ids = b_labels.to('cpu').numpy()\n",
    "    \n",
    "        logits_list.extend(logits)\n",
    "        labels_list.extend(label_ids)\n",
    "    \n",
    "        # Calculate test accuracy\n",
    "        b_accuracy = b_tp(logits, label_ids)\n",
    "        test_accuracy.append(b_accuracy)\n",
    "\n",
    "    print('\\t - Test Accuracy: {:.4f}'.format(sum(test_accuracy)/len(test_accuracy)))\n",
    "    preds = list(np.argmax(logits_list,axis=1))\n",
    "    print(classification_report(labels_list, preds))"
   ]
  },
  {
   "cell_type": "markdown",
   "id": "2add6fc7",
   "metadata": {},
   "source": [
    "# MAIN function"
   ]
  },
  {
   "cell_type": "code",
   "execution_count": null,
   "id": "df3ad93d",
   "metadata": {},
   "outputs": [],
   "source": [
    "LEARNING_RATE = 2e-5\n",
    "MAX_SEQ_LEN = 256\n",
    "BATCH_SIZE = 16 #32"
   ]
  },
  {
   "cell_type": "code",
   "execution_count": 117,
   "id": "4a8d60af",
   "metadata": {},
   "outputs": [],
   "source": [
    "def main_function(num_labels,epochs):\n",
    "\n",
    "    #initialize model\n",
    "    model, optimizer = initialize_model(num_labels, LEARNING_RATE)\n",
    "\n",
    "    # send model to device\n",
    "    model.to(device)\n",
    "\n",
    "    # define_data\n",
    "    train_text, val_text, test_text, train_labels, val_labels, test_labels = define_data(num_labels,train_df, val_df, test_df)\n",
    "\n",
    "    # process_data\n",
    "    for_dataloader = process_data(train_text, val_text, test_text, train_labels, val_labels, test_labels, MAX_SEQ_LEN)\n",
    "\n",
    "    #get dataloader\n",
    "    train_dataloader, val_dataloader, test_dataloader = get_dataloader(for_dataloader, BATCH_SIZE)\n",
    "\n",
    "    #training and validating model\n",
    "    trained_model = train_val(model, optimizer, train_dataloader, val_dataloader, epochs)\n",
    "    \n",
    "    # save model\n",
    "    str_time = get_timestamp()\n",
    "    torch.save(model.state_dict(), \\\n",
    "               '/data/ArgFeatModel/ModelWeights/saved_weights_'+str(num_labels)+'_'+str(epochs)+'_'+str_time+'.pt')\n",
    "    print('Model weights saves')\n",
    "\n",
    "    #testing model\n",
    "    test_report(trained_model, test_dataloader)\n",
    "\n",
    "    # empty cache\n",
    "    torch.cuda.empty_cache()\n",
    "    \n",
    "    print('Done.')"
   ]
  },
  {
   "cell_type": "markdown",
   "id": "ae46929f",
   "metadata": {},
   "source": [
    "# Training models"
   ]
  },
  {
   "cell_type": "code",
   "execution_count": null,
   "id": "2ef6f6d2",
   "metadata": {},
   "outputs": [],
   "source": [
    "import warnings\n",
    "warnings.filterwarnings('ignore')"
   ]
  },
  {
   "cell_type": "code",
   "execution_count": 118,
   "id": "e0536182",
   "metadata": {},
   "outputs": [
    {
     "name": "stderr",
     "output_type": "stream",
     "text": [
      "Some weights of the model checkpoint at bert-base-cased were not used when initializing BertForSequenceClassification: ['cls.predictions.transform.LayerNorm.weight', 'cls.predictions.transform.LayerNorm.bias', 'cls.predictions.transform.dense.weight', 'cls.predictions.bias', 'cls.seq_relationship.weight', 'cls.predictions.decoder.weight', 'cls.predictions.transform.dense.bias', 'cls.seq_relationship.bias']\n",
      "- This IS expected if you are initializing BertForSequenceClassification from the checkpoint of a model trained on another task or with another architecture (e.g. initializing a BertForSequenceClassification model from a BertForPreTraining model).\n",
      "- This IS NOT expected if you are initializing BertForSequenceClassification from the checkpoint of a model that you expect to be exactly identical (initializing a BertForSequenceClassification model from a BertForSequenceClassification model).\n",
      "Some weights of BertForSequenceClassification were not initialized from the model checkpoint at bert-base-cased and are newly initialized: ['classifier.weight', 'classifier.bias']\n",
      "You should probably TRAIN this model on a down-stream task to be able to use it for predictions and inference.\n",
      "/home/users/rldall/.local/lib/python3.8/site-packages/transformers/tokenization_utils_base.py:2346: FutureWarning: The `pad_to_max_length` argument is deprecated and will be removed in a future version, use `padding=True` or `padding='longest'` to pad to the longest sequence in the batch, or use `padding='max_length'` to pad to a max length. In this case, you can give a specific length with `max_length` (e.g. `max_length=45`) or leave max_length to None to pad to the maximal input size of the model (e.g. 512 for Bert).\n",
      "  warnings.warn(\n",
      "Epoch:   0%|          | 0/5 [00:00<?, ?it/s]"
     ]
    },
    {
     "name": "stdout",
     "output_type": "stream",
     "text": [
      "  Batch    50  of    532.\n",
      "  Batch   100  of    532.\n",
      "  Batch   150  of    532.\n",
      "  Batch   200  of    532.\n",
      "  Batch   250  of    532.\n",
      "  Batch   300  of    532.\n",
      "  Batch   350  of    532.\n",
      "  Batch   400  of    532.\n",
      "  Batch   450  of    532.\n",
      "  Batch   500  of    532.\n",
      "\n",
      "\t - Train loss: 0.4340\n",
      "\t - Validation Accuracy: 0.8586\n"
     ]
    },
    {
     "name": "stderr",
     "output_type": "stream",
     "text": [
      "\r",
      "Epoch:  20%|██        | 1/5 [03:35<14:21, 215.32s/it]"
     ]
    },
    {
     "name": "stdout",
     "output_type": "stream",
     "text": [
      "Model weights saves\n",
      "  Batch    50  of    532.\n",
      "  Batch   100  of    532.\n",
      "  Batch   150  of    532.\n",
      "  Batch   200  of    532.\n",
      "  Batch   250  of    532.\n",
      "  Batch   300  of    532.\n",
      "  Batch   350  of    532.\n",
      "  Batch   400  of    532.\n",
      "  Batch   450  of    532.\n",
      "  Batch   500  of    532.\n",
      "\n",
      "\t - Train loss: 0.2531\n",
      "\t - Validation Accuracy: 0.8613\n"
     ]
    },
    {
     "name": "stderr",
     "output_type": "stream",
     "text": [
      "\r",
      "Epoch:  40%|████      | 2/5 [07:11<10:48, 216.05s/it]"
     ]
    },
    {
     "name": "stdout",
     "output_type": "stream",
     "text": [
      "Model weights saves\n",
      "  Batch    50  of    532.\n",
      "  Batch   100  of    532.\n",
      "  Batch   150  of    532.\n",
      "  Batch   200  of    532.\n",
      "  Batch   250  of    532.\n",
      "  Batch   300  of    532.\n",
      "  Batch   350  of    532.\n",
      "  Batch   400  of    532.\n",
      "  Batch   450  of    532.\n",
      "  Batch   500  of    532.\n",
      "\n",
      "\t - Train loss: 0.1194\n",
      "\t - Validation Accuracy: 0.8473\n"
     ]
    },
    {
     "name": "stderr",
     "output_type": "stream",
     "text": [
      "\r",
      "Epoch:  60%|██████    | 3/5 [10:48<07:12, 216.27s/it]"
     ]
    },
    {
     "name": "stdout",
     "output_type": "stream",
     "text": [
      "Model weights saves\n",
      "  Batch    50  of    532.\n",
      "  Batch   100  of    532.\n",
      "  Batch   150  of    532.\n",
      "  Batch   200  of    532.\n",
      "  Batch   250  of    532.\n",
      "  Batch   300  of    532.\n",
      "  Batch   350  of    532.\n",
      "  Batch   400  of    532.\n",
      "  Batch   450  of    532.\n",
      "  Batch   500  of    532.\n",
      "\n",
      "\t - Train loss: 0.0638\n",
      "\t - Validation Accuracy: 0.8476\n"
     ]
    },
    {
     "name": "stderr",
     "output_type": "stream",
     "text": [
      "\r",
      "Epoch:  80%|████████  | 4/5 [14:24<03:36, 216.14s/it]"
     ]
    },
    {
     "name": "stdout",
     "output_type": "stream",
     "text": [
      "Model weights saves\n",
      "  Batch    50  of    532.\n",
      "  Batch   100  of    532.\n",
      "  Batch   150  of    532.\n",
      "  Batch   200  of    532.\n",
      "  Batch   250  of    532.\n",
      "  Batch   300  of    532.\n",
      "  Batch   350  of    532.\n",
      "  Batch   400  of    532.\n",
      "  Batch   450  of    532.\n",
      "  Batch   500  of    532.\n",
      "\n",
      "\t - Train loss: 0.0456\n",
      "\t - Validation Accuracy: 0.8483\n"
     ]
    },
    {
     "name": "stderr",
     "output_type": "stream",
     "text": [
      "Epoch: 100%|██████████| 5/5 [18:00<00:00, 216.10s/it]"
     ]
    },
    {
     "name": "stdout",
     "output_type": "stream",
     "text": [
      "Model weights saves\n"
     ]
    },
    {
     "name": "stderr",
     "output_type": "stream",
     "text": [
      "\n"
     ]
    },
    {
     "name": "stdout",
     "output_type": "stream",
     "text": [
      "Model weights saves\n",
      "\t - Test Accuracy: 0.8466\n",
      "              precision    recall  f1-score   support\n",
      "\n",
      "           0       0.90      0.89      0.89      2005\n",
      "           1       0.43      0.19      0.27        31\n",
      "           2       0.73      0.76      0.75       810\n",
      "\n",
      "    accuracy                           0.85      2846\n",
      "   macro avg       0.69      0.62      0.64      2846\n",
      "weighted avg       0.85      0.85      0.85      2846\n",
      "\n",
      "Done.\n"
     ]
    }
   ],
   "source": [
    "main_function(3,5)"
   ]
  },
  {
   "cell_type": "code",
   "execution_count": 119,
   "id": "cb9033ee",
   "metadata": {},
   "outputs": [
    {
     "name": "stderr",
     "output_type": "stream",
     "text": [
      "Some weights of the model checkpoint at bert-base-cased were not used when initializing BertForSequenceClassification: ['cls.predictions.transform.LayerNorm.weight', 'cls.predictions.transform.LayerNorm.bias', 'cls.predictions.transform.dense.weight', 'cls.predictions.bias', 'cls.seq_relationship.weight', 'cls.predictions.decoder.weight', 'cls.predictions.transform.dense.bias', 'cls.seq_relationship.bias']\n",
      "- This IS expected if you are initializing BertForSequenceClassification from the checkpoint of a model trained on another task or with another architecture (e.g. initializing a BertForSequenceClassification model from a BertForPreTraining model).\n",
      "- This IS NOT expected if you are initializing BertForSequenceClassification from the checkpoint of a model that you expect to be exactly identical (initializing a BertForSequenceClassification model from a BertForSequenceClassification model).\n",
      "Some weights of BertForSequenceClassification were not initialized from the model checkpoint at bert-base-cased and are newly initialized: ['classifier.weight', 'classifier.bias']\n",
      "You should probably TRAIN this model on a down-stream task to be able to use it for predictions and inference.\n",
      "/home/users/rldall/.local/lib/python3.8/site-packages/transformers/tokenization_utils_base.py:2346: FutureWarning: The `pad_to_max_length` argument is deprecated and will be removed in a future version, use `padding=True` or `padding='longest'` to pad to the longest sequence in the batch, or use `padding='max_length'` to pad to a max length. In this case, you can give a specific length with `max_length` (e.g. `max_length=45`) or leave max_length to None to pad to the maximal input size of the model (e.g. 512 for Bert).\n",
      "  warnings.warn(\n",
      "Epoch:   0%|          | 0/10 [00:00<?, ?it/s]"
     ]
    },
    {
     "name": "stdout",
     "output_type": "stream",
     "text": [
      "  Batch    50  of    532.\n",
      "  Batch   100  of    532.\n",
      "  Batch   150  of    532.\n",
      "  Batch   200  of    532.\n",
      "  Batch   250  of    532.\n",
      "  Batch   300  of    532.\n",
      "  Batch   350  of    532.\n",
      "  Batch   400  of    532.\n",
      "  Batch   450  of    532.\n",
      "  Batch   500  of    532.\n",
      "\n",
      "\t - Train loss: 0.4330\n",
      "\t - Validation Accuracy: 0.8536\n"
     ]
    },
    {
     "name": "stderr",
     "output_type": "stream",
     "text": [
      "\r",
      "Epoch:  10%|█         | 1/10 [03:35<32:21, 215.72s/it]"
     ]
    },
    {
     "name": "stdout",
     "output_type": "stream",
     "text": [
      "Model weights saves\n",
      "  Batch    50  of    532.\n",
      "  Batch   100  of    532.\n",
      "  Batch   150  of    532.\n",
      "  Batch   200  of    532.\n",
      "  Batch   250  of    532.\n",
      "  Batch   300  of    532.\n",
      "  Batch   350  of    532.\n",
      "  Batch   400  of    532.\n",
      "  Batch   450  of    532.\n",
      "  Batch   500  of    532.\n",
      "\n",
      "\t - Train loss: 0.2558\n",
      "\t - Validation Accuracy: 0.8593\n"
     ]
    },
    {
     "name": "stderr",
     "output_type": "stream",
     "text": [
      "\r",
      "Epoch:  20%|██        | 2/10 [07:11<28:47, 215.99s/it]"
     ]
    },
    {
     "name": "stdout",
     "output_type": "stream",
     "text": [
      "Model weights saves\n",
      "  Batch    50  of    532.\n",
      "  Batch   100  of    532.\n",
      "  Batch   150  of    532.\n",
      "  Batch   200  of    532.\n",
      "  Batch   250  of    532.\n",
      "  Batch   300  of    532.\n",
      "  Batch   350  of    532.\n",
      "  Batch   400  of    532.\n",
      "  Batch   450  of    532.\n",
      "  Batch   500  of    532.\n",
      "\n",
      "\t - Train loss: 0.1367\n",
      "\t - Validation Accuracy: 0.8366\n"
     ]
    },
    {
     "name": "stderr",
     "output_type": "stream",
     "text": [
      "\r",
      "Epoch:  30%|███       | 3/10 [10:48<25:13, 216.21s/it]"
     ]
    },
    {
     "name": "stdout",
     "output_type": "stream",
     "text": [
      "Model weights saves\n",
      "  Batch    50  of    532.\n",
      "  Batch   100  of    532.\n",
      "  Batch   150  of    532.\n",
      "  Batch   200  of    532.\n",
      "  Batch   250  of    532.\n",
      "  Batch   300  of    532.\n",
      "  Batch   350  of    532.\n",
      "  Batch   400  of    532.\n",
      "  Batch   450  of    532.\n",
      "  Batch   500  of    532.\n",
      "\n",
      "\t - Train loss: 0.0741\n",
      "\t - Validation Accuracy: 0.8422\n"
     ]
    },
    {
     "name": "stderr",
     "output_type": "stream",
     "text": [
      "\r",
      "Epoch:  40%|████      | 4/10 [14:24<21:36, 216.09s/it]"
     ]
    },
    {
     "name": "stdout",
     "output_type": "stream",
     "text": [
      "Model weights saves\n",
      "  Batch    50  of    532.\n",
      "  Batch   100  of    532.\n",
      "  Batch   150  of    532.\n",
      "  Batch   200  of    532.\n",
      "  Batch   250  of    532.\n",
      "  Batch   300  of    532.\n",
      "  Batch   350  of    532.\n",
      "  Batch   400  of    532.\n",
      "  Batch   450  of    532.\n",
      "  Batch   500  of    532.\n",
      "\n",
      "\t - Train loss: 0.0466\n",
      "\t - Validation Accuracy: 0.8222\n"
     ]
    },
    {
     "name": "stderr",
     "output_type": "stream",
     "text": [
      "\r",
      "Epoch:  50%|█████     | 5/10 [18:00<18:00, 216.06s/it]"
     ]
    },
    {
     "name": "stdout",
     "output_type": "stream",
     "text": [
      "Model weights saves\n",
      "  Batch    50  of    532.\n",
      "  Batch   100  of    532.\n",
      "  Batch   150  of    532.\n",
      "  Batch   200  of    532.\n",
      "  Batch   250  of    532.\n",
      "  Batch   300  of    532.\n",
      "  Batch   350  of    532.\n",
      "  Batch   400  of    532.\n",
      "  Batch   450  of    532.\n",
      "  Batch   500  of    532.\n",
      "\n",
      "\t - Train loss: 0.0336\n",
      "\t - Validation Accuracy: 0.8499\n"
     ]
    },
    {
     "name": "stderr",
     "output_type": "stream",
     "text": [
      "\r",
      "Epoch:  60%|██████    | 6/10 [21:36<14:23, 215.97s/it]"
     ]
    },
    {
     "name": "stdout",
     "output_type": "stream",
     "text": [
      "Model weights saves\n",
      "  Batch    50  of    532.\n",
      "  Batch   100  of    532.\n",
      "  Batch   150  of    532.\n",
      "  Batch   200  of    532.\n",
      "  Batch   250  of    532.\n",
      "  Batch   300  of    532.\n",
      "  Batch   350  of    532.\n",
      "  Batch   400  of    532.\n",
      "  Batch   450  of    532.\n",
      "  Batch   500  of    532.\n",
      "\n",
      "\t - Train loss: 0.0271\n",
      "\t - Validation Accuracy: 0.8526\n"
     ]
    },
    {
     "name": "stderr",
     "output_type": "stream",
     "text": [
      "\r",
      "Epoch:  70%|███████   | 7/10 [25:12<10:47, 216.00s/it]"
     ]
    },
    {
     "name": "stdout",
     "output_type": "stream",
     "text": [
      "Model weights saves\n",
      "  Batch    50  of    532.\n",
      "  Batch   100  of    532.\n",
      "  Batch   150  of    532.\n",
      "  Batch   200  of    532.\n",
      "  Batch   250  of    532.\n",
      "  Batch   300  of    532.\n",
      "  Batch   350  of    532.\n",
      "  Batch   400  of    532.\n",
      "  Batch   450  of    532.\n",
      "  Batch   500  of    532.\n",
      "\n",
      "\t - Train loss: 0.0199\n",
      "\t - Validation Accuracy: 0.8279\n"
     ]
    },
    {
     "name": "stderr",
     "output_type": "stream",
     "text": [
      "\r",
      "Epoch:  80%|████████  | 8/10 [28:49<07:12, 216.49s/it]"
     ]
    },
    {
     "name": "stdout",
     "output_type": "stream",
     "text": [
      "Model weights saves\n",
      "  Batch    50  of    532.\n",
      "  Batch   100  of    532.\n",
      "  Batch   150  of    532.\n",
      "  Batch   200  of    532.\n",
      "  Batch   250  of    532.\n",
      "  Batch   300  of    532.\n",
      "  Batch   350  of    532.\n",
      "  Batch   400  of    532.\n",
      "  Batch   450  of    532.\n",
      "  Batch   500  of    532.\n",
      "\n",
      "\t - Train loss: 0.0175\n",
      "\t - Validation Accuracy: 0.8519\n"
     ]
    },
    {
     "name": "stderr",
     "output_type": "stream",
     "text": [
      "\r",
      "Epoch:  90%|█████████ | 9/10 [32:26<03:36, 216.64s/it]"
     ]
    },
    {
     "name": "stdout",
     "output_type": "stream",
     "text": [
      "Model weights saves\n",
      "  Batch    50  of    532.\n",
      "  Batch   100  of    532.\n",
      "  Batch   150  of    532.\n",
      "  Batch   200  of    532.\n",
      "  Batch   250  of    532.\n",
      "  Batch   300  of    532.\n",
      "  Batch   350  of    532.\n",
      "  Batch   400  of    532.\n",
      "  Batch   450  of    532.\n",
      "  Batch   500  of    532.\n",
      "\n",
      "\t - Train loss: 0.0130\n",
      "\t - Validation Accuracy: 0.8372\n"
     ]
    },
    {
     "name": "stderr",
     "output_type": "stream",
     "text": [
      "Epoch: 100%|██████████| 10/10 [36:06<00:00, 216.69s/it]"
     ]
    },
    {
     "name": "stdout",
     "output_type": "stream",
     "text": [
      "Model weights saves\n"
     ]
    },
    {
     "name": "stderr",
     "output_type": "stream",
     "text": [
      "\n"
     ]
    },
    {
     "name": "stdout",
     "output_type": "stream",
     "text": [
      "Model weights saves\n",
      "\t - Test Accuracy: 0.8452\n",
      "              precision    recall  f1-score   support\n",
      "\n",
      "           0       0.91      0.88      0.89      2005\n",
      "           1       0.29      0.19      0.23        31\n",
      "           2       0.72      0.79      0.75       810\n",
      "\n",
      "    accuracy                           0.85      2846\n",
      "   macro avg       0.64      0.62      0.63      2846\n",
      "weighted avg       0.85      0.85      0.85      2846\n",
      "\n",
      "Done.\n"
     ]
    }
   ],
   "source": [
    "main_function(3,10)"
   ]
  },
  {
   "cell_type": "code",
   "execution_count": 121,
   "id": "dc15bb41",
   "metadata": {
    "scrolled": true
   },
   "outputs": [
    {
     "name": "stderr",
     "output_type": "stream",
     "text": [
      "Some weights of the model checkpoint at bert-base-cased were not used when initializing BertForSequenceClassification: ['cls.predictions.transform.LayerNorm.weight', 'cls.predictions.transform.LayerNorm.bias', 'cls.predictions.transform.dense.weight', 'cls.predictions.bias', 'cls.seq_relationship.weight', 'cls.predictions.decoder.weight', 'cls.predictions.transform.dense.bias', 'cls.seq_relationship.bias']\n",
      "- This IS expected if you are initializing BertForSequenceClassification from the checkpoint of a model trained on another task or with another architecture (e.g. initializing a BertForSequenceClassification model from a BertForPreTraining model).\n",
      "- This IS NOT expected if you are initializing BertForSequenceClassification from the checkpoint of a model that you expect to be exactly identical (initializing a BertForSequenceClassification model from a BertForSequenceClassification model).\n",
      "Some weights of BertForSequenceClassification were not initialized from the model checkpoint at bert-base-cased and are newly initialized: ['classifier.weight', 'classifier.bias']\n",
      "You should probably TRAIN this model on a down-stream task to be able to use it for predictions and inference.\n",
      "/home/users/rldall/.local/lib/python3.8/site-packages/transformers/tokenization_utils_base.py:2346: FutureWarning: The `pad_to_max_length` argument is deprecated and will be removed in a future version, use `padding=True` or `padding='longest'` to pad to the longest sequence in the batch, or use `padding='max_length'` to pad to a max length. In this case, you can give a specific length with `max_length` (e.g. `max_length=45`) or leave max_length to None to pad to the maximal input size of the model (e.g. 512 for Bert).\n",
      "  warnings.warn(\n",
      "Epoch:   0%|          | 0/3 [00:00<?, ?it/s]"
     ]
    },
    {
     "name": "stdout",
     "output_type": "stream",
     "text": [
      "  Batch    50  of    532.\n",
      "  Batch   100  of    532.\n",
      "  Batch   150  of    532.\n",
      "  Batch   200  of    532.\n",
      "  Batch   250  of    532.\n",
      "  Batch   300  of    532.\n",
      "  Batch   350  of    532.\n",
      "  Batch   400  of    532.\n",
      "  Batch   450  of    532.\n",
      "  Batch   500  of    532.\n",
      "\n",
      "\t - Train loss: 0.6591\n",
      "\t - Validation Accuracy: 0.8456\n"
     ]
    },
    {
     "name": "stderr",
     "output_type": "stream",
     "text": [
      "\r",
      "Epoch:  33%|███▎      | 1/3 [03:35<07:10, 215.49s/it]"
     ]
    },
    {
     "name": "stdout",
     "output_type": "stream",
     "text": [
      "Model weights saves\n",
      "  Batch    50  of    532.\n",
      "  Batch   100  of    532.\n",
      "  Batch   150  of    532.\n",
      "  Batch   200  of    532.\n",
      "  Batch   250  of    532.\n",
      "  Batch   300  of    532.\n",
      "  Batch   350  of    532.\n",
      "  Batch   400  of    532.\n",
      "  Batch   450  of    532.\n",
      "  Batch   500  of    532.\n",
      "\n",
      "\t - Train loss: 0.3645\n",
      "\t - Validation Accuracy: 0.8369\n"
     ]
    },
    {
     "name": "stderr",
     "output_type": "stream",
     "text": [
      "\r",
      "Epoch:  67%|██████▋   | 2/3 [07:11<03:35, 215.76s/it]"
     ]
    },
    {
     "name": "stdout",
     "output_type": "stream",
     "text": [
      "Model weights saves\n",
      "  Batch    50  of    532.\n",
      "  Batch   100  of    532.\n",
      "  Batch   150  of    532.\n",
      "  Batch   200  of    532.\n",
      "  Batch   250  of    532.\n",
      "  Batch   300  of    532.\n",
      "  Batch   350  of    532.\n",
      "  Batch   400  of    532.\n",
      "  Batch   450  of    532.\n",
      "  Batch   500  of    532.\n",
      "\n",
      "\t - Train loss: 0.1937\n",
      "\t - Validation Accuracy: 0.8205\n"
     ]
    },
    {
     "name": "stderr",
     "output_type": "stream",
     "text": [
      "Epoch: 100%|██████████| 3/3 [10:46<00:00, 215.66s/it]"
     ]
    },
    {
     "name": "stdout",
     "output_type": "stream",
     "text": [
      "Model weights saves\n"
     ]
    },
    {
     "name": "stderr",
     "output_type": "stream",
     "text": [
      "\n"
     ]
    },
    {
     "name": "stdout",
     "output_type": "stream",
     "text": [
      "Model weights saves\n",
      "\t - Test Accuracy: 0.8276\n",
      "              precision    recall  f1-score   support\n",
      "\n",
      "           0       0.69      0.55      0.61       486\n",
      "           1       0.88      0.92      0.90      2005\n",
      "           2       0.06      0.03      0.04        29\n",
      "           3       0.33      0.32      0.33        31\n",
      "           4       0.67      0.73      0.70        81\n",
      "           5       0.72      0.80      0.76       214\n",
      "\n",
      "    accuracy                           0.83      2846\n",
      "   macro avg       0.56      0.56      0.56      2846\n",
      "weighted avg       0.82      0.83      0.82      2846\n",
      "\n",
      "Done.\n"
     ]
    }
   ],
   "source": [
    "main_function(6,3)"
   ]
  },
  {
   "cell_type": "code",
   "execution_count": 120,
   "id": "007ccca0",
   "metadata": {},
   "outputs": [
    {
     "name": "stderr",
     "output_type": "stream",
     "text": [
      "Some weights of the model checkpoint at bert-base-cased were not used when initializing BertForSequenceClassification: ['cls.predictions.transform.LayerNorm.weight', 'cls.predictions.transform.LayerNorm.bias', 'cls.predictions.transform.dense.weight', 'cls.predictions.bias', 'cls.seq_relationship.weight', 'cls.predictions.decoder.weight', 'cls.predictions.transform.dense.bias', 'cls.seq_relationship.bias']\n",
      "- This IS expected if you are initializing BertForSequenceClassification from the checkpoint of a model trained on another task or with another architecture (e.g. initializing a BertForSequenceClassification model from a BertForPreTraining model).\n",
      "- This IS NOT expected if you are initializing BertForSequenceClassification from the checkpoint of a model that you expect to be exactly identical (initializing a BertForSequenceClassification model from a BertForSequenceClassification model).\n",
      "Some weights of BertForSequenceClassification were not initialized from the model checkpoint at bert-base-cased and are newly initialized: ['classifier.weight', 'classifier.bias']\n",
      "You should probably TRAIN this model on a down-stream task to be able to use it for predictions and inference.\n",
      "/home/users/rldall/.local/lib/python3.8/site-packages/transformers/tokenization_utils_base.py:2346: FutureWarning: The `pad_to_max_length` argument is deprecated and will be removed in a future version, use `padding=True` or `padding='longest'` to pad to the longest sequence in the batch, or use `padding='max_length'` to pad to a max length. In this case, you can give a specific length with `max_length` (e.g. `max_length=45`) or leave max_length to None to pad to the maximal input size of the model (e.g. 512 for Bert).\n",
      "  warnings.warn(\n",
      "Epoch:   0%|          | 0/5 [00:00<?, ?it/s]"
     ]
    },
    {
     "name": "stdout",
     "output_type": "stream",
     "text": [
      "  Batch    50  of    532.\n",
      "  Batch   100  of    532.\n",
      "  Batch   150  of    532.\n",
      "  Batch   200  of    532.\n",
      "  Batch   250  of    532.\n",
      "  Batch   300  of    532.\n",
      "  Batch   350  of    532.\n",
      "  Batch   400  of    532.\n",
      "  Batch   450  of    532.\n",
      "  Batch   500  of    532.\n",
      "\n",
      "\t - Train loss: 0.7149\n",
      "\t - Validation Accuracy: 0.8302\n"
     ]
    },
    {
     "name": "stderr",
     "output_type": "stream",
     "text": [
      "\r",
      "Epoch:  20%|██        | 1/5 [03:41<14:44, 221.06s/it]"
     ]
    },
    {
     "name": "stdout",
     "output_type": "stream",
     "text": [
      "Model weights saves\n",
      "  Batch    50  of    532.\n",
      "  Batch   100  of    532.\n",
      "  Batch   150  of    532.\n",
      "  Batch   200  of    532.\n",
      "  Batch   250  of    532.\n",
      "  Batch   300  of    532.\n",
      "  Batch   350  of    532.\n",
      "  Batch   400  of    532.\n",
      "  Batch   450  of    532.\n",
      "  Batch   500  of    532.\n",
      "\n",
      "\t - Train loss: 0.4021\n",
      "\t - Validation Accuracy: 0.8382\n"
     ]
    },
    {
     "name": "stderr",
     "output_type": "stream",
     "text": [
      "\r",
      "Epoch:  40%|████      | 2/5 [07:17<10:55, 218.59s/it]"
     ]
    },
    {
     "name": "stdout",
     "output_type": "stream",
     "text": [
      "Model weights saves\n",
      "  Batch    50  of    532.\n",
      "  Batch   100  of    532.\n",
      "  Batch   150  of    532.\n",
      "  Batch   200  of    532.\n",
      "  Batch   250  of    532.\n",
      "  Batch   300  of    532.\n",
      "  Batch   350  of    532.\n",
      "  Batch   400  of    532.\n",
      "  Batch   450  of    532.\n",
      "  Batch   500  of    532.\n",
      "\n",
      "\t - Train loss: 0.2346\n",
      "\t - Validation Accuracy: 0.8165\n"
     ]
    },
    {
     "name": "stderr",
     "output_type": "stream",
     "text": [
      "\r",
      "Epoch:  60%|██████    | 3/5 [10:53<07:14, 217.36s/it]"
     ]
    },
    {
     "name": "stdout",
     "output_type": "stream",
     "text": [
      "Model weights saves\n",
      "  Batch    50  of    532.\n",
      "  Batch   100  of    532.\n",
      "  Batch   150  of    532.\n",
      "  Batch   200  of    532.\n",
      "  Batch   250  of    532.\n",
      "  Batch   300  of    532.\n",
      "  Batch   350  of    532.\n",
      "  Batch   400  of    532.\n",
      "  Batch   450  of    532.\n",
      "  Batch   500  of    532.\n",
      "\n",
      "\t - Train loss: 0.1262\n",
      "\t - Validation Accuracy: 0.8031\n"
     ]
    },
    {
     "name": "stderr",
     "output_type": "stream",
     "text": [
      "\r",
      "Epoch:  80%|████████  | 4/5 [14:29<03:36, 216.89s/it]"
     ]
    },
    {
     "name": "stdout",
     "output_type": "stream",
     "text": [
      "Model weights saves\n",
      "  Batch    50  of    532.\n",
      "  Batch   100  of    532.\n",
      "  Batch   150  of    532.\n",
      "  Batch   200  of    532.\n",
      "  Batch   250  of    532.\n",
      "  Batch   300  of    532.\n",
      "  Batch   350  of    532.\n",
      "  Batch   400  of    532.\n",
      "  Batch   450  of    532.\n",
      "  Batch   500  of    532.\n",
      "\n",
      "\t - Train loss: 0.0736\n",
      "\t - Validation Accuracy: 0.8061\n"
     ]
    },
    {
     "name": "stderr",
     "output_type": "stream",
     "text": [
      "Epoch: 100%|██████████| 5/5 [18:05<00:00, 217.20s/it]"
     ]
    },
    {
     "name": "stdout",
     "output_type": "stream",
     "text": [
      "Model weights saves\n"
     ]
    },
    {
     "name": "stderr",
     "output_type": "stream",
     "text": [
      "\n"
     ]
    },
    {
     "name": "stdout",
     "output_type": "stream",
     "text": [
      "Model weights saves\n",
      "\t - Test Accuracy: 0.8093\n",
      "              precision    recall  f1-score   support\n",
      "\n",
      "           0       0.65      0.57      0.61       486\n",
      "           1       0.89      0.89      0.89      2005\n",
      "           2       0.05      0.10      0.07        29\n",
      "           3       0.36      0.29      0.32        31\n",
      "           4       0.77      0.57      0.65        81\n",
      "           5       0.66      0.82      0.73       214\n",
      "\n",
      "    accuracy                           0.81      2846\n",
      "   macro avg       0.56      0.54      0.55      2846\n",
      "weighted avg       0.81      0.81      0.81      2846\n",
      "\n",
      "Done.\n"
     ]
    }
   ],
   "source": [
    "main_function(6,5)"
   ]
  }
 ],
 "metadata": {
  "colab": {
   "provenance": []
  },
  "kernelspec": {
   "display_name": "Python 3 (ipykernel)",
   "language": "python",
   "name": "python3"
  },
  "language_info": {
   "codemirror_mode": {
    "name": "ipython",
    "version": 3
   },
   "file_extension": ".py",
   "mimetype": "text/x-python",
   "name": "python",
   "nbconvert_exporter": "python",
   "pygments_lexer": "ipython3",
   "version": "3.8.10"
  },
  "widgets": {
   "application/vnd.jupyter.widget-state+json": {
    "01133c911c0440e9aa3b26a427261a9c": {
     "model_module": "@jupyter-widgets/base",
     "model_module_version": "1.2.0",
     "model_name": "LayoutModel",
     "state": {
      "_model_module": "@jupyter-widgets/base",
      "_model_module_version": "1.2.0",
      "_model_name": "LayoutModel",
      "_view_count": null,
      "_view_module": "@jupyter-widgets/base",
      "_view_module_version": "1.2.0",
      "_view_name": "LayoutView",
      "align_content": null,
      "align_items": null,
      "align_self": null,
      "border": null,
      "bottom": null,
      "display": null,
      "flex": null,
      "flex_flow": null,
      "grid_area": null,
      "grid_auto_columns": null,
      "grid_auto_flow": null,
      "grid_auto_rows": null,
      "grid_column": null,
      "grid_gap": null,
      "grid_row": null,
      "grid_template_areas": null,
      "grid_template_columns": null,
      "grid_template_rows": null,
      "height": null,
      "justify_content": null,
      "justify_items": null,
      "left": null,
      "margin": null,
      "max_height": null,
      "max_width": null,
      "min_height": null,
      "min_width": null,
      "object_fit": null,
      "object_position": null,
      "order": null,
      "overflow": null,
      "overflow_x": null,
      "overflow_y": null,
      "padding": null,
      "right": null,
      "top": null,
      "visibility": null,
      "width": null
     }
    },
    "0627f2d2de3649d9b56999aa318698d0": {
     "model_module": "@jupyter-widgets/base",
     "model_module_version": "1.2.0",
     "model_name": "LayoutModel",
     "state": {
      "_model_module": "@jupyter-widgets/base",
      "_model_module_version": "1.2.0",
      "_model_name": "LayoutModel",
      "_view_count": null,
      "_view_module": "@jupyter-widgets/base",
      "_view_module_version": "1.2.0",
      "_view_name": "LayoutView",
      "align_content": null,
      "align_items": null,
      "align_self": null,
      "border": null,
      "bottom": null,
      "display": null,
      "flex": null,
      "flex_flow": null,
      "grid_area": null,
      "grid_auto_columns": null,
      "grid_auto_flow": null,
      "grid_auto_rows": null,
      "grid_column": null,
      "grid_gap": null,
      "grid_row": null,
      "grid_template_areas": null,
      "grid_template_columns": null,
      "grid_template_rows": null,
      "height": null,
      "justify_content": null,
      "justify_items": null,
      "left": null,
      "margin": null,
      "max_height": null,
      "max_width": null,
      "min_height": null,
      "min_width": null,
      "object_fit": null,
      "object_position": null,
      "order": null,
      "overflow": null,
      "overflow_x": null,
      "overflow_y": null,
      "padding": null,
      "right": null,
      "top": null,
      "visibility": null,
      "width": null
     }
    },
    "0a6fdb242f5d42c78137022cf265afc4": {
     "model_module": "@jupyter-widgets/controls",
     "model_module_version": "1.5.0",
     "model_name": "ProgressStyleModel",
     "state": {
      "_model_module": "@jupyter-widgets/controls",
      "_model_module_version": "1.5.0",
      "_model_name": "ProgressStyleModel",
      "_view_count": null,
      "_view_module": "@jupyter-widgets/base",
      "_view_module_version": "1.2.0",
      "_view_name": "StyleView",
      "bar_color": null,
      "description_width": ""
     }
    },
    "0f6048a4ffe74664b00bb1f31da1dedd": {
     "model_module": "@jupyter-widgets/controls",
     "model_module_version": "1.5.0",
     "model_name": "ProgressStyleModel",
     "state": {
      "_model_module": "@jupyter-widgets/controls",
      "_model_module_version": "1.5.0",
      "_model_name": "ProgressStyleModel",
      "_view_count": null,
      "_view_module": "@jupyter-widgets/base",
      "_view_module_version": "1.2.0",
      "_view_name": "StyleView",
      "bar_color": null,
      "description_width": ""
     }
    },
    "11dd2a428a044b2c9bd97beb0a3a9fe5": {
     "model_module": "@jupyter-widgets/base",
     "model_module_version": "1.2.0",
     "model_name": "LayoutModel",
     "state": {
      "_model_module": "@jupyter-widgets/base",
      "_model_module_version": "1.2.0",
      "_model_name": "LayoutModel",
      "_view_count": null,
      "_view_module": "@jupyter-widgets/base",
      "_view_module_version": "1.2.0",
      "_view_name": "LayoutView",
      "align_content": null,
      "align_items": null,
      "align_self": null,
      "border": null,
      "bottom": null,
      "display": null,
      "flex": null,
      "flex_flow": null,
      "grid_area": null,
      "grid_auto_columns": null,
      "grid_auto_flow": null,
      "grid_auto_rows": null,
      "grid_column": null,
      "grid_gap": null,
      "grid_row": null,
      "grid_template_areas": null,
      "grid_template_columns": null,
      "grid_template_rows": null,
      "height": null,
      "justify_content": null,
      "justify_items": null,
      "left": null,
      "margin": null,
      "max_height": null,
      "max_width": null,
      "min_height": null,
      "min_width": null,
      "object_fit": null,
      "object_position": null,
      "order": null,
      "overflow": null,
      "overflow_x": null,
      "overflow_y": null,
      "padding": null,
      "right": null,
      "top": null,
      "visibility": null,
      "width": null
     }
    },
    "1613b57d603f402ba26c0ae91ef790fb": {
     "model_module": "@jupyter-widgets/controls",
     "model_module_version": "1.5.0",
     "model_name": "ProgressStyleModel",
     "state": {
      "_model_module": "@jupyter-widgets/controls",
      "_model_module_version": "1.5.0",
      "_model_name": "ProgressStyleModel",
      "_view_count": null,
      "_view_module": "@jupyter-widgets/base",
      "_view_module_version": "1.2.0",
      "_view_name": "StyleView",
      "bar_color": null,
      "description_width": ""
     }
    },
    "1fb336adc8144836a747bb727875fe7b": {
     "model_module": "@jupyter-widgets/controls",
     "model_module_version": "1.5.0",
     "model_name": "DescriptionStyleModel",
     "state": {
      "_model_module": "@jupyter-widgets/controls",
      "_model_module_version": "1.5.0",
      "_model_name": "DescriptionStyleModel",
      "_view_count": null,
      "_view_module": "@jupyter-widgets/base",
      "_view_module_version": "1.2.0",
      "_view_name": "StyleView",
      "description_width": ""
     }
    },
    "2479610232184d4098a7393170b94f56": {
     "model_module": "@jupyter-widgets/base",
     "model_module_version": "1.2.0",
     "model_name": "LayoutModel",
     "state": {
      "_model_module": "@jupyter-widgets/base",
      "_model_module_version": "1.2.0",
      "_model_name": "LayoutModel",
      "_view_count": null,
      "_view_module": "@jupyter-widgets/base",
      "_view_module_version": "1.2.0",
      "_view_name": "LayoutView",
      "align_content": null,
      "align_items": null,
      "align_self": null,
      "border": null,
      "bottom": null,
      "display": null,
      "flex": null,
      "flex_flow": null,
      "grid_area": null,
      "grid_auto_columns": null,
      "grid_auto_flow": null,
      "grid_auto_rows": null,
      "grid_column": null,
      "grid_gap": null,
      "grid_row": null,
      "grid_template_areas": null,
      "grid_template_columns": null,
      "grid_template_rows": null,
      "height": null,
      "justify_content": null,
      "justify_items": null,
      "left": null,
      "margin": null,
      "max_height": null,
      "max_width": null,
      "min_height": null,
      "min_width": null,
      "object_fit": null,
      "object_position": null,
      "order": null,
      "overflow": null,
      "overflow_x": null,
      "overflow_y": null,
      "padding": null,
      "right": null,
      "top": null,
      "visibility": null,
      "width": null
     }
    },
    "35d1acc548db4a7083e10007a24955b3": {
     "model_module": "@jupyter-widgets/base",
     "model_module_version": "1.2.0",
     "model_name": "LayoutModel",
     "state": {
      "_model_module": "@jupyter-widgets/base",
      "_model_module_version": "1.2.0",
      "_model_name": "LayoutModel",
      "_view_count": null,
      "_view_module": "@jupyter-widgets/base",
      "_view_module_version": "1.2.0",
      "_view_name": "LayoutView",
      "align_content": null,
      "align_items": null,
      "align_self": null,
      "border": null,
      "bottom": null,
      "display": null,
      "flex": null,
      "flex_flow": null,
      "grid_area": null,
      "grid_auto_columns": null,
      "grid_auto_flow": null,
      "grid_auto_rows": null,
      "grid_column": null,
      "grid_gap": null,
      "grid_row": null,
      "grid_template_areas": null,
      "grid_template_columns": null,
      "grid_template_rows": null,
      "height": null,
      "justify_content": null,
      "justify_items": null,
      "left": null,
      "margin": null,
      "max_height": null,
      "max_width": null,
      "min_height": null,
      "min_width": null,
      "object_fit": null,
      "object_position": null,
      "order": null,
      "overflow": null,
      "overflow_x": null,
      "overflow_y": null,
      "padding": null,
      "right": null,
      "top": null,
      "visibility": null,
      "width": null
     }
    },
    "3bcaa58169594f388e3e8ba2d9657855": {
     "model_module": "@jupyter-widgets/controls",
     "model_module_version": "1.5.0",
     "model_name": "ProgressStyleModel",
     "state": {
      "_model_module": "@jupyter-widgets/controls",
      "_model_module_version": "1.5.0",
      "_model_name": "ProgressStyleModel",
      "_view_count": null,
      "_view_module": "@jupyter-widgets/base",
      "_view_module_version": "1.2.0",
      "_view_name": "StyleView",
      "bar_color": null,
      "description_width": ""
     }
    },
    "3f2e354e007c4732bfd1915cb02628c3": {
     "model_module": "@jupyter-widgets/base",
     "model_module_version": "1.2.0",
     "model_name": "LayoutModel",
     "state": {
      "_model_module": "@jupyter-widgets/base",
      "_model_module_version": "1.2.0",
      "_model_name": "LayoutModel",
      "_view_count": null,
      "_view_module": "@jupyter-widgets/base",
      "_view_module_version": "1.2.0",
      "_view_name": "LayoutView",
      "align_content": null,
      "align_items": null,
      "align_self": null,
      "border": null,
      "bottom": null,
      "display": null,
      "flex": null,
      "flex_flow": null,
      "grid_area": null,
      "grid_auto_columns": null,
      "grid_auto_flow": null,
      "grid_auto_rows": null,
      "grid_column": null,
      "grid_gap": null,
      "grid_row": null,
      "grid_template_areas": null,
      "grid_template_columns": null,
      "grid_template_rows": null,
      "height": null,
      "justify_content": null,
      "justify_items": null,
      "left": null,
      "margin": null,
      "max_height": null,
      "max_width": null,
      "min_height": null,
      "min_width": null,
      "object_fit": null,
      "object_position": null,
      "order": null,
      "overflow": null,
      "overflow_x": null,
      "overflow_y": null,
      "padding": null,
      "right": null,
      "top": null,
      "visibility": null,
      "width": null
     }
    },
    "41a949f47e9243b5ae4bcaee870d106c": {
     "model_module": "@jupyter-widgets/base",
     "model_module_version": "1.2.0",
     "model_name": "LayoutModel",
     "state": {
      "_model_module": "@jupyter-widgets/base",
      "_model_module_version": "1.2.0",
      "_model_name": "LayoutModel",
      "_view_count": null,
      "_view_module": "@jupyter-widgets/base",
      "_view_module_version": "1.2.0",
      "_view_name": "LayoutView",
      "align_content": null,
      "align_items": null,
      "align_self": null,
      "border": null,
      "bottom": null,
      "display": null,
      "flex": null,
      "flex_flow": null,
      "grid_area": null,
      "grid_auto_columns": null,
      "grid_auto_flow": null,
      "grid_auto_rows": null,
      "grid_column": null,
      "grid_gap": null,
      "grid_row": null,
      "grid_template_areas": null,
      "grid_template_columns": null,
      "grid_template_rows": null,
      "height": null,
      "justify_content": null,
      "justify_items": null,
      "left": null,
      "margin": null,
      "max_height": null,
      "max_width": null,
      "min_height": null,
      "min_width": null,
      "object_fit": null,
      "object_position": null,
      "order": null,
      "overflow": null,
      "overflow_x": null,
      "overflow_y": null,
      "padding": null,
      "right": null,
      "top": null,
      "visibility": null,
      "width": null
     }
    },
    "445a084e4fad4280ab9f300e805d8d43": {
     "model_module": "@jupyter-widgets/controls",
     "model_module_version": "1.5.0",
     "model_name": "FloatProgressModel",
     "state": {
      "_dom_classes": [],
      "_model_module": "@jupyter-widgets/controls",
      "_model_module_version": "1.5.0",
      "_model_name": "FloatProgressModel",
      "_view_count": null,
      "_view_module": "@jupyter-widgets/controls",
      "_view_module_version": "1.5.0",
      "_view_name": "ProgressView",
      "bar_style": "success",
      "description": "",
      "description_tooltip": null,
      "layout": "IPY_MODEL_01133c911c0440e9aa3b26a427261a9c",
      "max": 570,
      "min": 0,
      "orientation": "horizontal",
      "style": "IPY_MODEL_0f6048a4ffe74664b00bb1f31da1dedd",
      "value": 570
     }
    },
    "4836d761317944e8a81d8a34d1de265f": {
     "model_module": "@jupyter-widgets/controls",
     "model_module_version": "1.5.0",
     "model_name": "HBoxModel",
     "state": {
      "_dom_classes": [],
      "_model_module": "@jupyter-widgets/controls",
      "_model_module_version": "1.5.0",
      "_model_name": "HBoxModel",
      "_view_count": null,
      "_view_module": "@jupyter-widgets/controls",
      "_view_module_version": "1.5.0",
      "_view_name": "HBoxView",
      "box_style": "",
      "children": [
       "IPY_MODEL_9d6ae7f1984643f486570ce058925c43",
       "IPY_MODEL_a54defa06e1248af8a34292d87833b91",
       "IPY_MODEL_6c71f411c7df4b06bf75e268d6dc26f5"
      ],
      "layout": "IPY_MODEL_bcdfcfde9fa44fe9a7ac5695e155c19c"
     }
    },
    "48b8338955034a8bb2e9aa2a632510f8": {
     "model_module": "@jupyter-widgets/controls",
     "model_module_version": "1.5.0",
     "model_name": "DescriptionStyleModel",
     "state": {
      "_model_module": "@jupyter-widgets/controls",
      "_model_module_version": "1.5.0",
      "_model_name": "DescriptionStyleModel",
      "_view_count": null,
      "_view_module": "@jupyter-widgets/base",
      "_view_module_version": "1.2.0",
      "_view_name": "StyleView",
      "description_width": ""
     }
    },
    "4fccb113fc504ab985d190053a25a832": {
     "model_module": "@jupyter-widgets/controls",
     "model_module_version": "1.5.0",
     "model_name": "HTMLModel",
     "state": {
      "_dom_classes": [],
      "_model_module": "@jupyter-widgets/controls",
      "_model_module_version": "1.5.0",
      "_model_name": "HTMLModel",
      "_view_count": null,
      "_view_module": "@jupyter-widgets/controls",
      "_view_module_version": "1.5.0",
      "_view_name": "HTMLView",
      "description": "",
      "description_tooltip": null,
      "layout": "IPY_MODEL_11dd2a428a044b2c9bd97beb0a3a9fe5",
      "placeholder": "​",
      "style": "IPY_MODEL_af99ba9efcaf4c3a8b90b8cd73313733",
      "value": " 213k/213k [00:00&lt;00:00, 877kB/s]"
     }
    },
    "520222721f504f45b6a85d479a66d89e": {
     "model_module": "@jupyter-widgets/base",
     "model_module_version": "1.2.0",
     "model_name": "LayoutModel",
     "state": {
      "_model_module": "@jupyter-widgets/base",
      "_model_module_version": "1.2.0",
      "_model_name": "LayoutModel",
      "_view_count": null,
      "_view_module": "@jupyter-widgets/base",
      "_view_module_version": "1.2.0",
      "_view_name": "LayoutView",
      "align_content": null,
      "align_items": null,
      "align_self": null,
      "border": null,
      "bottom": null,
      "display": null,
      "flex": null,
      "flex_flow": null,
      "grid_area": null,
      "grid_auto_columns": null,
      "grid_auto_flow": null,
      "grid_auto_rows": null,
      "grid_column": null,
      "grid_gap": null,
      "grid_row": null,
      "grid_template_areas": null,
      "grid_template_columns": null,
      "grid_template_rows": null,
      "height": null,
      "justify_content": null,
      "justify_items": null,
      "left": null,
      "margin": null,
      "max_height": null,
      "max_width": null,
      "min_height": null,
      "min_width": null,
      "object_fit": null,
      "object_position": null,
      "order": null,
      "overflow": null,
      "overflow_x": null,
      "overflow_y": null,
      "padding": null,
      "right": null,
      "top": null,
      "visibility": null,
      "width": null
     }
    },
    "5303dfa6582a4732ba7cdc3447362614": {
     "model_module": "@jupyter-widgets/base",
     "model_module_version": "1.2.0",
     "model_name": "LayoutModel",
     "state": {
      "_model_module": "@jupyter-widgets/base",
      "_model_module_version": "1.2.0",
      "_model_name": "LayoutModel",
      "_view_count": null,
      "_view_module": "@jupyter-widgets/base",
      "_view_module_version": "1.2.0",
      "_view_name": "LayoutView",
      "align_content": null,
      "align_items": null,
      "align_self": null,
      "border": null,
      "bottom": null,
      "display": null,
      "flex": null,
      "flex_flow": null,
      "grid_area": null,
      "grid_auto_columns": null,
      "grid_auto_flow": null,
      "grid_auto_rows": null,
      "grid_column": null,
      "grid_gap": null,
      "grid_row": null,
      "grid_template_areas": null,
      "grid_template_columns": null,
      "grid_template_rows": null,
      "height": null,
      "justify_content": null,
      "justify_items": null,
      "left": null,
      "margin": null,
      "max_height": null,
      "max_width": null,
      "min_height": null,
      "min_width": null,
      "object_fit": null,
      "object_position": null,
      "order": null,
      "overflow": null,
      "overflow_x": null,
      "overflow_y": null,
      "padding": null,
      "right": null,
      "top": null,
      "visibility": null,
      "width": null
     }
    },
    "575206471dde408a91e45eb06dce56b6": {
     "model_module": "@jupyter-widgets/controls",
     "model_module_version": "1.5.0",
     "model_name": "HTMLModel",
     "state": {
      "_dom_classes": [],
      "_model_module": "@jupyter-widgets/controls",
      "_model_module_version": "1.5.0",
      "_model_name": "HTMLModel",
      "_view_count": null,
      "_view_module": "@jupyter-widgets/controls",
      "_view_module_version": "1.5.0",
      "_view_name": "HTMLView",
      "description": "",
      "description_tooltip": null,
      "layout": "IPY_MODEL_7e3d1a2f0e8e43809b67974371f87cc6",
      "placeholder": "​",
      "style": "IPY_MODEL_ac0bf67610424225b7e86733f33e5bf7",
      "value": "Downloading (…)solve/main/vocab.txt: 100%"
     }
    },
    "651ad9a1f66a4b0891d8e6c7bf4a8b12": {
     "model_module": "@jupyter-widgets/controls",
     "model_module_version": "1.5.0",
     "model_name": "FloatProgressModel",
     "state": {
      "_dom_classes": [],
      "_model_module": "@jupyter-widgets/controls",
      "_model_module_version": "1.5.0",
      "_model_name": "FloatProgressModel",
      "_view_count": null,
      "_view_module": "@jupyter-widgets/controls",
      "_view_module_version": "1.5.0",
      "_view_name": "ProgressView",
      "bar_style": "success",
      "description": "",
      "description_tooltip": null,
      "layout": "IPY_MODEL_9e2bc0c3ad4e452aa08ef9021b7a20d9",
      "max": 213450,
      "min": 0,
      "orientation": "horizontal",
      "style": "IPY_MODEL_3bcaa58169594f388e3e8ba2d9657855",
      "value": 213450
     }
    },
    "6c1e572fdec5435395afbbaf43af1e73": {
     "model_module": "@jupyter-widgets/base",
     "model_module_version": "1.2.0",
     "model_name": "LayoutModel",
     "state": {
      "_model_module": "@jupyter-widgets/base",
      "_model_module_version": "1.2.0",
      "_model_name": "LayoutModel",
      "_view_count": null,
      "_view_module": "@jupyter-widgets/base",
      "_view_module_version": "1.2.0",
      "_view_name": "LayoutView",
      "align_content": null,
      "align_items": null,
      "align_self": null,
      "border": null,
      "bottom": null,
      "display": null,
      "flex": null,
      "flex_flow": null,
      "grid_area": null,
      "grid_auto_columns": null,
      "grid_auto_flow": null,
      "grid_auto_rows": null,
      "grid_column": null,
      "grid_gap": null,
      "grid_row": null,
      "grid_template_areas": null,
      "grid_template_columns": null,
      "grid_template_rows": null,
      "height": null,
      "justify_content": null,
      "justify_items": null,
      "left": null,
      "margin": null,
      "max_height": null,
      "max_width": null,
      "min_height": null,
      "min_width": null,
      "object_fit": null,
      "object_position": null,
      "order": null,
      "overflow": null,
      "overflow_x": null,
      "overflow_y": null,
      "padding": null,
      "right": null,
      "top": null,
      "visibility": null,
      "width": null
     }
    },
    "6c71f411c7df4b06bf75e268d6dc26f5": {
     "model_module": "@jupyter-widgets/controls",
     "model_module_version": "1.5.0",
     "model_name": "HTMLModel",
     "state": {
      "_dom_classes": [],
      "_model_module": "@jupyter-widgets/controls",
      "_model_module_version": "1.5.0",
      "_model_name": "HTMLModel",
      "_view_count": null,
      "_view_module": "@jupyter-widgets/controls",
      "_view_module_version": "1.5.0",
      "_view_name": "HTMLView",
      "description": "",
      "description_tooltip": null,
      "layout": "IPY_MODEL_e7e1aba9211e4322b2f4ea167bc8d0b3",
      "placeholder": "​",
      "style": "IPY_MODEL_88c4b8ed03b54d2b97685c3192a8c17e",
      "value": " 436M/436M [00:04&lt;00:00, 101MB/s]"
     }
    },
    "7055ab67987241fd989cd159e5b705d7": {
     "model_module": "@jupyter-widgets/controls",
     "model_module_version": "1.5.0",
     "model_name": "HBoxModel",
     "state": {
      "_dom_classes": [],
      "_model_module": "@jupyter-widgets/controls",
      "_model_module_version": "1.5.0",
      "_model_name": "HBoxModel",
      "_view_count": null,
      "_view_module": "@jupyter-widgets/controls",
      "_view_module_version": "1.5.0",
      "_view_name": "HBoxView",
      "box_style": "",
      "children": [
       "IPY_MODEL_7d43610fb3ac4cb1abe035b465a9b9ca",
       "IPY_MODEL_445a084e4fad4280ab9f300e805d8d43",
       "IPY_MODEL_d15ce1548bd243c6aa92a0e21b1a3a6a"
      ],
      "layout": "IPY_MODEL_35d1acc548db4a7083e10007a24955b3"
     }
    },
    "71ca07d2cdf54693bcab4cefe02dfd5d": {
     "model_module": "@jupyter-widgets/base",
     "model_module_version": "1.2.0",
     "model_name": "LayoutModel",
     "state": {
      "_model_module": "@jupyter-widgets/base",
      "_model_module_version": "1.2.0",
      "_model_name": "LayoutModel",
      "_view_count": null,
      "_view_module": "@jupyter-widgets/base",
      "_view_module_version": "1.2.0",
      "_view_name": "LayoutView",
      "align_content": null,
      "align_items": null,
      "align_self": null,
      "border": null,
      "bottom": null,
      "display": null,
      "flex": null,
      "flex_flow": null,
      "grid_area": null,
      "grid_auto_columns": null,
      "grid_auto_flow": null,
      "grid_auto_rows": null,
      "grid_column": null,
      "grid_gap": null,
      "grid_row": null,
      "grid_template_areas": null,
      "grid_template_columns": null,
      "grid_template_rows": null,
      "height": null,
      "justify_content": null,
      "justify_items": null,
      "left": null,
      "margin": null,
      "max_height": null,
      "max_width": null,
      "min_height": null,
      "min_width": null,
      "object_fit": null,
      "object_position": null,
      "order": null,
      "overflow": null,
      "overflow_x": null,
      "overflow_y": null,
      "padding": null,
      "right": null,
      "top": null,
      "visibility": null,
      "width": null
     }
    },
    "731da04a144740cba2d3bd13862cb892": {
     "model_module": "@jupyter-widgets/controls",
     "model_module_version": "1.5.0",
     "model_name": "HBoxModel",
     "state": {
      "_dom_classes": [],
      "_model_module": "@jupyter-widgets/controls",
      "_model_module_version": "1.5.0",
      "_model_name": "HBoxModel",
      "_view_count": null,
      "_view_module": "@jupyter-widgets/controls",
      "_view_module_version": "1.5.0",
      "_view_name": "HBoxView",
      "box_style": "",
      "children": [
       "IPY_MODEL_575206471dde408a91e45eb06dce56b6",
       "IPY_MODEL_651ad9a1f66a4b0891d8e6c7bf4a8b12",
       "IPY_MODEL_4fccb113fc504ab985d190053a25a832"
      ],
      "layout": "IPY_MODEL_2479610232184d4098a7393170b94f56"
     }
    },
    "7d43610fb3ac4cb1abe035b465a9b9ca": {
     "model_module": "@jupyter-widgets/controls",
     "model_module_version": "1.5.0",
     "model_name": "HTMLModel",
     "state": {
      "_dom_classes": [],
      "_model_module": "@jupyter-widgets/controls",
      "_model_module_version": "1.5.0",
      "_model_name": "HTMLModel",
      "_view_count": null,
      "_view_module": "@jupyter-widgets/controls",
      "_view_module_version": "1.5.0",
      "_view_name": "HTMLView",
      "description": "",
      "description_tooltip": null,
      "layout": "IPY_MODEL_520222721f504f45b6a85d479a66d89e",
      "placeholder": "​",
      "style": "IPY_MODEL_9c7f1f734a4848c091701724fd2d50d6",
      "value": "Downloading (…)lve/main/config.json: 100%"
     }
    },
    "7e3d1a2f0e8e43809b67974371f87cc6": {
     "model_module": "@jupyter-widgets/base",
     "model_module_version": "1.2.0",
     "model_name": "LayoutModel",
     "state": {
      "_model_module": "@jupyter-widgets/base",
      "_model_module_version": "1.2.0",
      "_model_name": "LayoutModel",
      "_view_count": null,
      "_view_module": "@jupyter-widgets/base",
      "_view_module_version": "1.2.0",
      "_view_name": "LayoutView",
      "align_content": null,
      "align_items": null,
      "align_self": null,
      "border": null,
      "bottom": null,
      "display": null,
      "flex": null,
      "flex_flow": null,
      "grid_area": null,
      "grid_auto_columns": null,
      "grid_auto_flow": null,
      "grid_auto_rows": null,
      "grid_column": null,
      "grid_gap": null,
      "grid_row": null,
      "grid_template_areas": null,
      "grid_template_columns": null,
      "grid_template_rows": null,
      "height": null,
      "justify_content": null,
      "justify_items": null,
      "left": null,
      "margin": null,
      "max_height": null,
      "max_width": null,
      "min_height": null,
      "min_width": null,
      "object_fit": null,
      "object_position": null,
      "order": null,
      "overflow": null,
      "overflow_x": null,
      "overflow_y": null,
      "padding": null,
      "right": null,
      "top": null,
      "visibility": null,
      "width": null
     }
    },
    "8541d9a2cf2a4df78dd852a78d321701": {
     "model_module": "@jupyter-widgets/base",
     "model_module_version": "1.2.0",
     "model_name": "LayoutModel",
     "state": {
      "_model_module": "@jupyter-widgets/base",
      "_model_module_version": "1.2.0",
      "_model_name": "LayoutModel",
      "_view_count": null,
      "_view_module": "@jupyter-widgets/base",
      "_view_module_version": "1.2.0",
      "_view_name": "LayoutView",
      "align_content": null,
      "align_items": null,
      "align_self": null,
      "border": null,
      "bottom": null,
      "display": null,
      "flex": null,
      "flex_flow": null,
      "grid_area": null,
      "grid_auto_columns": null,
      "grid_auto_flow": null,
      "grid_auto_rows": null,
      "grid_column": null,
      "grid_gap": null,
      "grid_row": null,
      "grid_template_areas": null,
      "grid_template_columns": null,
      "grid_template_rows": null,
      "height": null,
      "justify_content": null,
      "justify_items": null,
      "left": null,
      "margin": null,
      "max_height": null,
      "max_width": null,
      "min_height": null,
      "min_width": null,
      "object_fit": null,
      "object_position": null,
      "order": null,
      "overflow": null,
      "overflow_x": null,
      "overflow_y": null,
      "padding": null,
      "right": null,
      "top": null,
      "visibility": null,
      "width": null
     }
    },
    "88c4b8ed03b54d2b97685c3192a8c17e": {
     "model_module": "@jupyter-widgets/controls",
     "model_module_version": "1.5.0",
     "model_name": "DescriptionStyleModel",
     "state": {
      "_model_module": "@jupyter-widgets/controls",
      "_model_module_version": "1.5.0",
      "_model_name": "DescriptionStyleModel",
      "_view_count": null,
      "_view_module": "@jupyter-widgets/base",
      "_view_module_version": "1.2.0",
      "_view_name": "StyleView",
      "description_width": ""
     }
    },
    "8b281565bbc64668a0e3abc65650ca23": {
     "model_module": "@jupyter-widgets/base",
     "model_module_version": "1.2.0",
     "model_name": "LayoutModel",
     "state": {
      "_model_module": "@jupyter-widgets/base",
      "_model_module_version": "1.2.0",
      "_model_name": "LayoutModel",
      "_view_count": null,
      "_view_module": "@jupyter-widgets/base",
      "_view_module_version": "1.2.0",
      "_view_name": "LayoutView",
      "align_content": null,
      "align_items": null,
      "align_self": null,
      "border": null,
      "bottom": null,
      "display": null,
      "flex": null,
      "flex_flow": null,
      "grid_area": null,
      "grid_auto_columns": null,
      "grid_auto_flow": null,
      "grid_auto_rows": null,
      "grid_column": null,
      "grid_gap": null,
      "grid_row": null,
      "grid_template_areas": null,
      "grid_template_columns": null,
      "grid_template_rows": null,
      "height": null,
      "justify_content": null,
      "justify_items": null,
      "left": null,
      "margin": null,
      "max_height": null,
      "max_width": null,
      "min_height": null,
      "min_width": null,
      "object_fit": null,
      "object_position": null,
      "order": null,
      "overflow": null,
      "overflow_x": null,
      "overflow_y": null,
      "padding": null,
      "right": null,
      "top": null,
      "visibility": null,
      "width": null
     }
    },
    "93947289ff954216b835ea1b260dc819": {
     "model_module": "@jupyter-widgets/controls",
     "model_module_version": "1.5.0",
     "model_name": "HBoxModel",
     "state": {
      "_dom_classes": [],
      "_model_module": "@jupyter-widgets/controls",
      "_model_module_version": "1.5.0",
      "_model_name": "HBoxModel",
      "_view_count": null,
      "_view_module": "@jupyter-widgets/controls",
      "_view_module_version": "1.5.0",
      "_view_name": "HBoxView",
      "box_style": "",
      "children": [
       "IPY_MODEL_c36622d48ec0477083d7a029cdd73705",
       "IPY_MODEL_e49b1db3be4a469e90234876680f0e5e",
       "IPY_MODEL_f73cdb3a4b8e46939a62ab0581608556"
      ],
      "layout": "IPY_MODEL_41a949f47e9243b5ae4bcaee870d106c"
     }
    },
    "9b622fd264d94622937f284ddd386531": {
     "model_module": "@jupyter-widgets/controls",
     "model_module_version": "1.5.0",
     "model_name": "FloatProgressModel",
     "state": {
      "_dom_classes": [],
      "_model_module": "@jupyter-widgets/controls",
      "_model_module_version": "1.5.0",
      "_model_name": "FloatProgressModel",
      "_view_count": null,
      "_view_module": "@jupyter-widgets/controls",
      "_view_module_version": "1.5.0",
      "_view_name": "ProgressView",
      "bar_style": "success",
      "description": "",
      "description_tooltip": null,
      "layout": "IPY_MODEL_ccb54714ec564cd0beaf4a02cbf825bd",
      "max": 29,
      "min": 0,
      "orientation": "horizontal",
      "style": "IPY_MODEL_0a6fdb242f5d42c78137022cf265afc4",
      "value": 29
     }
    },
    "9c7f1f734a4848c091701724fd2d50d6": {
     "model_module": "@jupyter-widgets/controls",
     "model_module_version": "1.5.0",
     "model_name": "DescriptionStyleModel",
     "state": {
      "_model_module": "@jupyter-widgets/controls",
      "_model_module_version": "1.5.0",
      "_model_name": "DescriptionStyleModel",
      "_view_count": null,
      "_view_module": "@jupyter-widgets/base",
      "_view_module_version": "1.2.0",
      "_view_name": "StyleView",
      "description_width": ""
     }
    },
    "9d6ae7f1984643f486570ce058925c43": {
     "model_module": "@jupyter-widgets/controls",
     "model_module_version": "1.5.0",
     "model_name": "HTMLModel",
     "state": {
      "_dom_classes": [],
      "_model_module": "@jupyter-widgets/controls",
      "_model_module_version": "1.5.0",
      "_model_name": "HTMLModel",
      "_view_count": null,
      "_view_module": "@jupyter-widgets/controls",
      "_view_module_version": "1.5.0",
      "_view_name": "HTMLView",
      "description": "",
      "description_tooltip": null,
      "layout": "IPY_MODEL_71ca07d2cdf54693bcab4cefe02dfd5d",
      "placeholder": "​",
      "style": "IPY_MODEL_bd5629e037124fd9a7a0f5335fe63803",
      "value": "Downloading (…)&quot;pytorch_model.bin&quot;;: 100%"
     }
    },
    "9e2bc0c3ad4e452aa08ef9021b7a20d9": {
     "model_module": "@jupyter-widgets/base",
     "model_module_version": "1.2.0",
     "model_name": "LayoutModel",
     "state": {
      "_model_module": "@jupyter-widgets/base",
      "_model_module_version": "1.2.0",
      "_model_name": "LayoutModel",
      "_view_count": null,
      "_view_module": "@jupyter-widgets/base",
      "_view_module_version": "1.2.0",
      "_view_name": "LayoutView",
      "align_content": null,
      "align_items": null,
      "align_self": null,
      "border": null,
      "bottom": null,
      "display": null,
      "flex": null,
      "flex_flow": null,
      "grid_area": null,
      "grid_auto_columns": null,
      "grid_auto_flow": null,
      "grid_auto_rows": null,
      "grid_column": null,
      "grid_gap": null,
      "grid_row": null,
      "grid_template_areas": null,
      "grid_template_columns": null,
      "grid_template_rows": null,
      "height": null,
      "justify_content": null,
      "justify_items": null,
      "left": null,
      "margin": null,
      "max_height": null,
      "max_width": null,
      "min_height": null,
      "min_width": null,
      "object_fit": null,
      "object_position": null,
      "order": null,
      "overflow": null,
      "overflow_x": null,
      "overflow_y": null,
      "padding": null,
      "right": null,
      "top": null,
      "visibility": null,
      "width": null
     }
    },
    "9f0a9df9fc97466498b4f30221a79626": {
     "model_module": "@jupyter-widgets/controls",
     "model_module_version": "1.5.0",
     "model_name": "DescriptionStyleModel",
     "state": {
      "_model_module": "@jupyter-widgets/controls",
      "_model_module_version": "1.5.0",
      "_model_name": "DescriptionStyleModel",
      "_view_count": null,
      "_view_module": "@jupyter-widgets/base",
      "_view_module_version": "1.2.0",
      "_view_name": "StyleView",
      "description_width": ""
     }
    },
    "a54defa06e1248af8a34292d87833b91": {
     "model_module": "@jupyter-widgets/controls",
     "model_module_version": "1.5.0",
     "model_name": "FloatProgressModel",
     "state": {
      "_dom_classes": [],
      "_model_module": "@jupyter-widgets/controls",
      "_model_module_version": "1.5.0",
      "_model_name": "FloatProgressModel",
      "_view_count": null,
      "_view_module": "@jupyter-widgets/controls",
      "_view_module_version": "1.5.0",
      "_view_name": "ProgressView",
      "bar_style": "success",
      "description": "",
      "description_tooltip": null,
      "layout": "IPY_MODEL_6c1e572fdec5435395afbbaf43af1e73",
      "max": 435779157,
      "min": 0,
      "orientation": "horizontal",
      "style": "IPY_MODEL_1613b57d603f402ba26c0ae91ef790fb",
      "value": 435779157
     }
    },
    "aaa2128243ba467c883fcb20fc57379c": {
     "model_module": "@jupyter-widgets/base",
     "model_module_version": "1.2.0",
     "model_name": "LayoutModel",
     "state": {
      "_model_module": "@jupyter-widgets/base",
      "_model_module_version": "1.2.0",
      "_model_name": "LayoutModel",
      "_view_count": null,
      "_view_module": "@jupyter-widgets/base",
      "_view_module_version": "1.2.0",
      "_view_name": "LayoutView",
      "align_content": null,
      "align_items": null,
      "align_self": null,
      "border": null,
      "bottom": null,
      "display": null,
      "flex": null,
      "flex_flow": null,
      "grid_area": null,
      "grid_auto_columns": null,
      "grid_auto_flow": null,
      "grid_auto_rows": null,
      "grid_column": null,
      "grid_gap": null,
      "grid_row": null,
      "grid_template_areas": null,
      "grid_template_columns": null,
      "grid_template_rows": null,
      "height": null,
      "justify_content": null,
      "justify_items": null,
      "left": null,
      "margin": null,
      "max_height": null,
      "max_width": null,
      "min_height": null,
      "min_width": null,
      "object_fit": null,
      "object_position": null,
      "order": null,
      "overflow": null,
      "overflow_x": null,
      "overflow_y": null,
      "padding": null,
      "right": null,
      "top": null,
      "visibility": null,
      "width": null
     }
    },
    "ab8fd68f89af44a18aa8ac8f0d5fb119": {
     "model_module": "@jupyter-widgets/controls",
     "model_module_version": "1.5.0",
     "model_name": "HBoxModel",
     "state": {
      "_dom_classes": [],
      "_model_module": "@jupyter-widgets/controls",
      "_model_module_version": "1.5.0",
      "_model_name": "HBoxModel",
      "_view_count": null,
      "_view_module": "@jupyter-widgets/controls",
      "_view_module_version": "1.5.0",
      "_view_name": "HBoxView",
      "box_style": "",
      "children": [
       "IPY_MODEL_c01ed8aed1cb4ed482d34f785d39a305",
       "IPY_MODEL_9b622fd264d94622937f284ddd386531",
       "IPY_MODEL_da0e98a49a934d5586f1ad5d1d03d479"
      ],
      "layout": "IPY_MODEL_3f2e354e007c4732bfd1915cb02628c3"
     }
    },
    "ac0bf67610424225b7e86733f33e5bf7": {
     "model_module": "@jupyter-widgets/controls",
     "model_module_version": "1.5.0",
     "model_name": "DescriptionStyleModel",
     "state": {
      "_model_module": "@jupyter-widgets/controls",
      "_model_module_version": "1.5.0",
      "_model_name": "DescriptionStyleModel",
      "_view_count": null,
      "_view_module": "@jupyter-widgets/base",
      "_view_module_version": "1.2.0",
      "_view_name": "StyleView",
      "description_width": ""
     }
    },
    "af99ba9efcaf4c3a8b90b8cd73313733": {
     "model_module": "@jupyter-widgets/controls",
     "model_module_version": "1.5.0",
     "model_name": "DescriptionStyleModel",
     "state": {
      "_model_module": "@jupyter-widgets/controls",
      "_model_module_version": "1.5.0",
      "_model_name": "DescriptionStyleModel",
      "_view_count": null,
      "_view_module": "@jupyter-widgets/base",
      "_view_module_version": "1.2.0",
      "_view_name": "StyleView",
      "description_width": ""
     }
    },
    "bcdfcfde9fa44fe9a7ac5695e155c19c": {
     "model_module": "@jupyter-widgets/base",
     "model_module_version": "1.2.0",
     "model_name": "LayoutModel",
     "state": {
      "_model_module": "@jupyter-widgets/base",
      "_model_module_version": "1.2.0",
      "_model_name": "LayoutModel",
      "_view_count": null,
      "_view_module": "@jupyter-widgets/base",
      "_view_module_version": "1.2.0",
      "_view_name": "LayoutView",
      "align_content": null,
      "align_items": null,
      "align_self": null,
      "border": null,
      "bottom": null,
      "display": null,
      "flex": null,
      "flex_flow": null,
      "grid_area": null,
      "grid_auto_columns": null,
      "grid_auto_flow": null,
      "grid_auto_rows": null,
      "grid_column": null,
      "grid_gap": null,
      "grid_row": null,
      "grid_template_areas": null,
      "grid_template_columns": null,
      "grid_template_rows": null,
      "height": null,
      "justify_content": null,
      "justify_items": null,
      "left": null,
      "margin": null,
      "max_height": null,
      "max_width": null,
      "min_height": null,
      "min_width": null,
      "object_fit": null,
      "object_position": null,
      "order": null,
      "overflow": null,
      "overflow_x": null,
      "overflow_y": null,
      "padding": null,
      "right": null,
      "top": null,
      "visibility": null,
      "width": null
     }
    },
    "bd5629e037124fd9a7a0f5335fe63803": {
     "model_module": "@jupyter-widgets/controls",
     "model_module_version": "1.5.0",
     "model_name": "DescriptionStyleModel",
     "state": {
      "_model_module": "@jupyter-widgets/controls",
      "_model_module_version": "1.5.0",
      "_model_name": "DescriptionStyleModel",
      "_view_count": null,
      "_view_module": "@jupyter-widgets/base",
      "_view_module_version": "1.2.0",
      "_view_name": "StyleView",
      "description_width": ""
     }
    },
    "c01ed8aed1cb4ed482d34f785d39a305": {
     "model_module": "@jupyter-widgets/controls",
     "model_module_version": "1.5.0",
     "model_name": "HTMLModel",
     "state": {
      "_dom_classes": [],
      "_model_module": "@jupyter-widgets/controls",
      "_model_module_version": "1.5.0",
      "_model_name": "HTMLModel",
      "_view_count": null,
      "_view_module": "@jupyter-widgets/controls",
      "_view_module_version": "1.5.0",
      "_view_name": "HTMLView",
      "description": "",
      "description_tooltip": null,
      "layout": "IPY_MODEL_e2db2ca223ab404493914a01493691a0",
      "placeholder": "​",
      "style": "IPY_MODEL_48b8338955034a8bb2e9aa2a632510f8",
      "value": "Downloading (…)okenizer_config.json: 100%"
     }
    },
    "c36622d48ec0477083d7a029cdd73705": {
     "model_module": "@jupyter-widgets/controls",
     "model_module_version": "1.5.0",
     "model_name": "HTMLModel",
     "state": {
      "_dom_classes": [],
      "_model_module": "@jupyter-widgets/controls",
      "_model_module_version": "1.5.0",
      "_model_name": "HTMLModel",
      "_view_count": null,
      "_view_module": "@jupyter-widgets/controls",
      "_view_module_version": "1.5.0",
      "_view_name": "HTMLView",
      "description": "",
      "description_tooltip": null,
      "layout": "IPY_MODEL_5303dfa6582a4732ba7cdc3447362614",
      "placeholder": "​",
      "style": "IPY_MODEL_9f0a9df9fc97466498b4f30221a79626",
      "value": "Downloading (…)/main/tokenizer.json: 100%"
     }
    },
    "c736383997b749d3af1296782e261db3": {
     "model_module": "@jupyter-widgets/controls",
     "model_module_version": "1.5.0",
     "model_name": "DescriptionStyleModel",
     "state": {
      "_model_module": "@jupyter-widgets/controls",
      "_model_module_version": "1.5.0",
      "_model_name": "DescriptionStyleModel",
      "_view_count": null,
      "_view_module": "@jupyter-widgets/base",
      "_view_module_version": "1.2.0",
      "_view_name": "StyleView",
      "description_width": ""
     }
    },
    "ccb54714ec564cd0beaf4a02cbf825bd": {
     "model_module": "@jupyter-widgets/base",
     "model_module_version": "1.2.0",
     "model_name": "LayoutModel",
     "state": {
      "_model_module": "@jupyter-widgets/base",
      "_model_module_version": "1.2.0",
      "_model_name": "LayoutModel",
      "_view_count": null,
      "_view_module": "@jupyter-widgets/base",
      "_view_module_version": "1.2.0",
      "_view_name": "LayoutView",
      "align_content": null,
      "align_items": null,
      "align_self": null,
      "border": null,
      "bottom": null,
      "display": null,
      "flex": null,
      "flex_flow": null,
      "grid_area": null,
      "grid_auto_columns": null,
      "grid_auto_flow": null,
      "grid_auto_rows": null,
      "grid_column": null,
      "grid_gap": null,
      "grid_row": null,
      "grid_template_areas": null,
      "grid_template_columns": null,
      "grid_template_rows": null,
      "height": null,
      "justify_content": null,
      "justify_items": null,
      "left": null,
      "margin": null,
      "max_height": null,
      "max_width": null,
      "min_height": null,
      "min_width": null,
      "object_fit": null,
      "object_position": null,
      "order": null,
      "overflow": null,
      "overflow_x": null,
      "overflow_y": null,
      "padding": null,
      "right": null,
      "top": null,
      "visibility": null,
      "width": null
     }
    },
    "d15ce1548bd243c6aa92a0e21b1a3a6a": {
     "model_module": "@jupyter-widgets/controls",
     "model_module_version": "1.5.0",
     "model_name": "HTMLModel",
     "state": {
      "_dom_classes": [],
      "_model_module": "@jupyter-widgets/controls",
      "_model_module_version": "1.5.0",
      "_model_name": "HTMLModel",
      "_view_count": null,
      "_view_module": "@jupyter-widgets/controls",
      "_view_module_version": "1.5.0",
      "_view_name": "HTMLView",
      "description": "",
      "description_tooltip": null,
      "layout": "IPY_MODEL_0627f2d2de3649d9b56999aa318698d0",
      "placeholder": "​",
      "style": "IPY_MODEL_d436d50681aa47c8a5d056a17bcb5410",
      "value": " 570/570 [00:00&lt;00:00, 12.7kB/s]"
     }
    },
    "d436d50681aa47c8a5d056a17bcb5410": {
     "model_module": "@jupyter-widgets/controls",
     "model_module_version": "1.5.0",
     "model_name": "DescriptionStyleModel",
     "state": {
      "_model_module": "@jupyter-widgets/controls",
      "_model_module_version": "1.5.0",
      "_model_name": "DescriptionStyleModel",
      "_view_count": null,
      "_view_module": "@jupyter-widgets/base",
      "_view_module_version": "1.2.0",
      "_view_name": "StyleView",
      "description_width": ""
     }
    },
    "da0e98a49a934d5586f1ad5d1d03d479": {
     "model_module": "@jupyter-widgets/controls",
     "model_module_version": "1.5.0",
     "model_name": "HTMLModel",
     "state": {
      "_dom_classes": [],
      "_model_module": "@jupyter-widgets/controls",
      "_model_module_version": "1.5.0",
      "_model_name": "HTMLModel",
      "_view_count": null,
      "_view_module": "@jupyter-widgets/controls",
      "_view_module_version": "1.5.0",
      "_view_name": "HTMLView",
      "description": "",
      "description_tooltip": null,
      "layout": "IPY_MODEL_aaa2128243ba467c883fcb20fc57379c",
      "placeholder": "​",
      "style": "IPY_MODEL_c736383997b749d3af1296782e261db3",
      "value": " 29.0/29.0 [00:00&lt;00:00, 1.31kB/s]"
     }
    },
    "e2db2ca223ab404493914a01493691a0": {
     "model_module": "@jupyter-widgets/base",
     "model_module_version": "1.2.0",
     "model_name": "LayoutModel",
     "state": {
      "_model_module": "@jupyter-widgets/base",
      "_model_module_version": "1.2.0",
      "_model_name": "LayoutModel",
      "_view_count": null,
      "_view_module": "@jupyter-widgets/base",
      "_view_module_version": "1.2.0",
      "_view_name": "LayoutView",
      "align_content": null,
      "align_items": null,
      "align_self": null,
      "border": null,
      "bottom": null,
      "display": null,
      "flex": null,
      "flex_flow": null,
      "grid_area": null,
      "grid_auto_columns": null,
      "grid_auto_flow": null,
      "grid_auto_rows": null,
      "grid_column": null,
      "grid_gap": null,
      "grid_row": null,
      "grid_template_areas": null,
      "grid_template_columns": null,
      "grid_template_rows": null,
      "height": null,
      "justify_content": null,
      "justify_items": null,
      "left": null,
      "margin": null,
      "max_height": null,
      "max_width": null,
      "min_height": null,
      "min_width": null,
      "object_fit": null,
      "object_position": null,
      "order": null,
      "overflow": null,
      "overflow_x": null,
      "overflow_y": null,
      "padding": null,
      "right": null,
      "top": null,
      "visibility": null,
      "width": null
     }
    },
    "e49b1db3be4a469e90234876680f0e5e": {
     "model_module": "@jupyter-widgets/controls",
     "model_module_version": "1.5.0",
     "model_name": "FloatProgressModel",
     "state": {
      "_dom_classes": [],
      "_model_module": "@jupyter-widgets/controls",
      "_model_module_version": "1.5.0",
      "_model_name": "FloatProgressModel",
      "_view_count": null,
      "_view_module": "@jupyter-widgets/controls",
      "_view_module_version": "1.5.0",
      "_view_name": "ProgressView",
      "bar_style": "success",
      "description": "",
      "description_tooltip": null,
      "layout": "IPY_MODEL_8b281565bbc64668a0e3abc65650ca23",
      "max": 435797,
      "min": 0,
      "orientation": "horizontal",
      "style": "IPY_MODEL_faf8ea334a7d409a81703b1c191bdb48",
      "value": 435797
     }
    },
    "e7e1aba9211e4322b2f4ea167bc8d0b3": {
     "model_module": "@jupyter-widgets/base",
     "model_module_version": "1.2.0",
     "model_name": "LayoutModel",
     "state": {
      "_model_module": "@jupyter-widgets/base",
      "_model_module_version": "1.2.0",
      "_model_name": "LayoutModel",
      "_view_count": null,
      "_view_module": "@jupyter-widgets/base",
      "_view_module_version": "1.2.0",
      "_view_name": "LayoutView",
      "align_content": null,
      "align_items": null,
      "align_self": null,
      "border": null,
      "bottom": null,
      "display": null,
      "flex": null,
      "flex_flow": null,
      "grid_area": null,
      "grid_auto_columns": null,
      "grid_auto_flow": null,
      "grid_auto_rows": null,
      "grid_column": null,
      "grid_gap": null,
      "grid_row": null,
      "grid_template_areas": null,
      "grid_template_columns": null,
      "grid_template_rows": null,
      "height": null,
      "justify_content": null,
      "justify_items": null,
      "left": null,
      "margin": null,
      "max_height": null,
      "max_width": null,
      "min_height": null,
      "min_width": null,
      "object_fit": null,
      "object_position": null,
      "order": null,
      "overflow": null,
      "overflow_x": null,
      "overflow_y": null,
      "padding": null,
      "right": null,
      "top": null,
      "visibility": null,
      "width": null
     }
    },
    "f73cdb3a4b8e46939a62ab0581608556": {
     "model_module": "@jupyter-widgets/controls",
     "model_module_version": "1.5.0",
     "model_name": "HTMLModel",
     "state": {
      "_dom_classes": [],
      "_model_module": "@jupyter-widgets/controls",
      "_model_module_version": "1.5.0",
      "_model_name": "HTMLModel",
      "_view_count": null,
      "_view_module": "@jupyter-widgets/controls",
      "_view_module_version": "1.5.0",
      "_view_name": "HTMLView",
      "description": "",
      "description_tooltip": null,
      "layout": "IPY_MODEL_8541d9a2cf2a4df78dd852a78d321701",
      "placeholder": "​",
      "style": "IPY_MODEL_1fb336adc8144836a747bb727875fe7b",
      "value": " 436k/436k [00:00&lt;00:00, 1.62MB/s]"
     }
    },
    "faf8ea334a7d409a81703b1c191bdb48": {
     "model_module": "@jupyter-widgets/controls",
     "model_module_version": "1.5.0",
     "model_name": "ProgressStyleModel",
     "state": {
      "_model_module": "@jupyter-widgets/controls",
      "_model_module_version": "1.5.0",
      "_model_name": "ProgressStyleModel",
      "_view_count": null,
      "_view_module": "@jupyter-widgets/base",
      "_view_module_version": "1.2.0",
      "_view_name": "StyleView",
      "bar_color": null,
      "description_width": ""
     }
    }
   }
  }
 },
 "nbformat": 4,
 "nbformat_minor": 5
}
